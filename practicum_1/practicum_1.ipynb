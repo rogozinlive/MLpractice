{
 "cells": [
  {
   "metadata": {
    "ExecuteTime": {
     "end_time": "2025-05-29T23:42:36.444916Z",
     "start_time": "2025-05-29T23:42:36.439785Z"
    }
   },
   "cell_type": "code",
   "source": [
    "import yaml\n",
    "with open('../config.yaml', 'r') as f:\n",
    "    cfg = yaml.safe_load(f)"
   ],
   "outputs": [],
   "execution_count": 27
  },
  {
   "metadata": {
    "ExecuteTime": {
     "end_time": "2025-05-29T23:22:48.080641Z",
     "start_time": "2025-05-29T23:22:48.011670Z"
    }
   },
   "cell_type": "code",
   "source": "import numpy as np",
   "outputs": [],
   "execution_count": 2
  },
  {
   "metadata": {},
   "cell_type": "markdown",
   "source": "Задание 1. Создайте вектор со значениями от 0 до 65"
  },
  {
   "metadata": {
    "ExecuteTime": {
     "end_time": "2025-05-29T23:18:19.165474Z",
     "start_time": "2025-05-29T23:18:19.161751Z"
    }
   },
   "cell_type": "code",
   "source": [
    "import numpy as np\n",
    "vector = np.arange(66)\n",
    "print(vector)"
   ],
   "outputs": [
    {
     "name": "stdout",
     "output_type": "stream",
     "text": [
      "[ 0  1  2  3  4  5  6  7  8  9 10 11 12 13 14 15 16 17 18 19 20 21 22 23\n",
      " 24 25 26 27 28 29 30 31 32 33 34 35 36 37 38 39 40 41 42 43 44 45 46 47\n",
      " 48 49 50 51 52 53 54 55 56 57 58 59 60 61 62 63 64 65]\n"
     ]
    }
   ],
   "execution_count": 6
  },
  {
   "metadata": {},
   "cell_type": "markdown",
   "source": "**Задание**: Создайте матрицу 3х3 со значениями от 0 до 9"
  },
  {
   "metadata": {
    "ExecuteTime": {
     "end_time": "2025-05-29T23:06:15.202430Z",
     "start_time": "2025-05-29T23:06:15.196190Z"
    }
   },
   "cell_type": "code",
   "source": [
    "matrix = np.arange(9).reshape(3, 3)\n",
    "matrix"
   ],
   "outputs": [
    {
     "data": {
      "text/plain": [
       "array([[0, 1, 2],\n",
       "       [3, 4, 5],\n",
       "       [6, 7, 8]])"
      ]
     },
     "execution_count": 4,
     "metadata": {},
     "output_type": "execute_result"
    }
   ],
   "execution_count": 4
  },
  {
   "metadata": {},
   "cell_type": "markdown",
   "source": "**Задание**: создайте матрицу 9 на 9, заполните случайными значениями и найдите максимальный, минимальный элемент и среднее значение."
  },
  {
   "metadata": {
    "ExecuteTime": {
     "end_time": "2025-05-29T23:18:22.753476Z",
     "start_time": "2025-05-29T23:18:22.551990Z"
    }
   },
   "cell_type": "code",
   "source": [
    "matrix = np.random.rand(9, 9)\n",
    "max_val = np.max(matrix)\n",
    "min_val = np.min(matrix)\n",
    "mean_val = np.mean(matrix)\n",
    "print(f\"Max: {max_val}, Min: {min_val}, Mean: {mean_val}\")\n",
    "matrix"
   ],
   "outputs": [
    {
     "name": "stdout",
     "output_type": "stream",
     "text": [
      "Max: 0.9807744093260578, Min: 0.007024909514075861, Mean: 0.4861841315492227\n"
     ]
    },
    {
     "data": {
      "text/plain": [
       "array([[0.98077441, 0.49462886, 0.29701208, 0.80664612, 0.11157782,\n",
       "        0.49841412, 0.21431235, 0.82763736, 0.10768034],\n",
       "       [0.31789676, 0.54993282, 0.85561745, 0.88891851, 0.07353453,\n",
       "        0.12768484, 0.01745744, 0.9445725 , 0.29557994],\n",
       "       [0.94239192, 0.45968974, 0.13694881, 0.28740149, 0.8713594 ,\n",
       "        0.15969064, 0.63276656, 0.51286361, 0.07641609],\n",
       "       [0.84745359, 0.59092718, 0.70006729, 0.4618851 , 0.82931699,\n",
       "        0.83658825, 0.0448061 , 0.72197884, 0.26380324],\n",
       "       [0.92174265, 0.26806614, 0.27976505, 0.24238216, 0.39817391,\n",
       "        0.00702491, 0.22032094, 0.12260389, 0.88987416],\n",
       "       [0.72775112, 0.64077346, 0.48731063, 0.44246767, 0.59813157,\n",
       "        0.94021594, 0.21006617, 0.33576464, 0.35278714],\n",
       "       [0.11947919, 0.14942932, 0.54244571, 0.50457458, 0.1231625 ,\n",
       "        0.81592216, 0.19238413, 0.02032383, 0.62325173],\n",
       "       [0.26702561, 0.82792193, 0.90287935, 0.53249663, 0.22360444,\n",
       "        0.23374019, 0.24830927, 0.83957789, 0.78023982],\n",
       "       [0.78670041, 0.70753622, 0.58866972, 0.29479661, 0.64067196,\n",
       "        0.65675068, 0.50025756, 0.6692697 , 0.71803827]])"
      ]
     },
     "execution_count": 7,
     "metadata": {},
     "output_type": "execute_result"
    }
   ],
   "execution_count": 7
  },
  {
   "metadata": {},
   "cell_type": "markdown",
   "source": "**Задание**: разверните массив (1, 2, 3) -> (3, 2, 1)"
  },
  {
   "metadata": {
    "ExecuteTime": {
     "end_time": "2025-05-29T23:32:39.928589Z",
     "start_time": "2025-05-29T23:32:39.921541Z"
    }
   },
   "cell_type": "code",
   "source": [
    "arr = np.array([1, 2, 3])\n",
    "reversed_arr = arr[::-1]\n",
    "reversed_arr"
   ],
   "outputs": [
    {
     "data": {
      "text/plain": [
       "array([3, 2, 1])"
      ]
     },
     "execution_count": 13,
     "metadata": {},
     "output_type": "execute_result"
    }
   ],
   "execution_count": 13
  },
  {
   "metadata": {},
   "cell_type": "markdown",
   "source": "**Задание**: Создайте массив 5х5 и заполните двойками обе диагонали, а нулями все остальное"
  },
  {
   "metadata": {},
   "cell_type": "code",
   "outputs": [],
   "execution_count": null,
   "source": [
    "matrix = np.zeros((5, 5))\n",
    "np.fill_diagonal(matrix, 2)\n",
    "np.fill_diagonal(np.fliplr(matrix), 2)\n",
    "print(matrix)"
   ]
  },
  {
   "metadata": {},
   "cell_type": "markdown",
   "source": "**Задание**: Создайте массив с значениями 1,2,3,4 на 1 поддиагонали "
  },
  {
   "metadata": {},
   "cell_type": "code",
   "outputs": [],
   "execution_count": null,
   "source": [
    "matrix = np.zeros((5, 5))\n",
    "np.fill_diagonal(matrix[1:], [1, 2, 3, 4])\n",
    "print(matrix)"
   ]
  },
  {
   "metadata": {},
   "cell_type": "markdown",
   "source": "**Задание**: найдите ненулевые элементы массива [1,2,0,0,8,0, 4,1]"
  },
  {
   "metadata": {},
   "cell_type": "code",
   "outputs": [],
   "execution_count": null,
   "source": [
    "arr = np.array([1, 2, 0, 0, 8, 0, 4, 1])\n",
    "\n",
    "nonzero_indices = np.nonzero(arr)[0]  # [0, 1, 4, 6, 7]\n",
    "nonzero_values = arr[nonzero_indices]  # [1, 2, 8, 4, 1]"
   ]
  },
  {
   "metadata": {},
   "cell_type": "markdown",
   "source": "**Задание**: Создайте 2 массива 2х4, проверьте, что они одинаковы"
  },
  {
   "metadata": {},
   "cell_type": "code",
   "outputs": [],
   "execution_count": null,
   "source": [
    "arr1 = np.array([[1, 2, 3, 4], [5, 6, 7, 8]])\n",
    "arr2 = np.array([[1, 2, 3, 4], [5, 6, 7, 8]])\n",
    "are_equal = np.array_equal(arr1, arr2)"
   ]
  },
  {
   "metadata": {},
   "cell_type": "markdown",
   "source": "**Задание**: Создайте вектор х длины 5 и матрицу А размера 5х4. Перемножьте их, чтобы получить результаты размера [1,5], [5], [4x5] "
  },
  {
   "metadata": {},
   "cell_type": "code",
   "outputs": [],
   "execution_count": null,
   "source": [
    "x = np.array([1, 2, 3, 4, 5])\n",
    "A = np.array([\n",
    "    [1, 2, 3, 4],\n",
    "    [5, 6, 7, 8],\n",
    "    [9, 10, 11, 12],\n",
    "    [13, 14, 15, 16],\n",
    "    [17, 18, 19, 20]\n",
    "])\n",
    "\n",
    "\n",
    "x_1x5 = x.reshape(1, 5)\n",
    "result_1x5 = x_1x5 @ A\n",
    "\n",
    "result_5 = x * A[:,0]\n",
    "\n",
    "diag_x = np.diag(x)\n",
    "result_4x5 = A.T @ diag_x  # [4,5] @ [5,5] = [4,5]\n",
    "\n",
    "print(\"Вектор x:\", x)\n",
    "print(\"Матрица A:\\n\", A)\n",
    "print(\"\\n1. Результат размера [1,5]:\\n\", result_1x5)\n",
    "print(\"\\n2. Результат размера [5] (поэлементное умножение на 1-й столбец):\\n\", result_5)\n",
    "print(\"\\n3. Результат размера [4,5]:\\n\", result_4x5)"
   ]
  },
  {
   "metadata": {},
   "cell_type": "markdown",
   "source": "Задание: Извлеките целые части из случайного массива размера 5х5 (с float типом) как минимум 3 разными способами"
  },
  {
   "metadata": {
    "ExecuteTime": {
     "end_time": "2025-05-29T23:25:05.404924Z",
     "start_time": "2025-05-29T23:25:05.390010Z"
    }
   },
   "cell_type": "code",
   "source": [
    "# Создаем случайный массив 5x5 с float-числами от -10 до 10\n",
    "np.random.seed(42)  # для воспроизводимости\n",
    "arr = np.random.uniform(-10, 10, size=(5, 5))\n",
    "print(\"Исходный массив:\\n\", arr)\n",
    "\n",
    "# Способ 1: Использование np.trunc()\n",
    "int_part1 = np.trunc(arr)\n",
    "\n",
    "# Способ 2: Приведение типа к int (отбрасывает дробную часть)\n",
    "int_part2 = arr.astype(int)\n",
    "\n",
    "# Способ 3: Использование np.floor() (округляет вниз)\n",
    "int_part3 = np.floor(arr)\n",
    "\n",
    "print(\"\\nСпособ 1 (trunc):\\n\", int_part1)\n",
    "print(\"\\nСпособ 2 (astype(int)):\\n\", int_part2)\n",
    "print(\"\\nСпособ 3 (floor):\\n\", int_part3)"
   ],
   "outputs": [
    {
     "name": "stdout",
     "output_type": "stream",
     "text": [
      "Исходный массив:\n",
      " [[-2.50919762  9.01428613  4.63987884  1.97316968 -6.87962719]\n",
      " [-6.88010959 -8.83832776  7.32352292  2.02230023  4.16145156]\n",
      " [-9.58831011  9.39819704  6.64885282 -5.75321779 -6.36350066]\n",
      " [-6.3319098  -3.91515514  0.49512863 -1.36109963 -4.1754172 ]\n",
      " [ 2.23705789 -7.21012279 -4.15710703 -2.67276313 -0.87860032]]\n",
      "\n",
      "Способ 1 (trunc):\n",
      " [[-2.  9.  4.  1. -6.]\n",
      " [-6. -8.  7.  2.  4.]\n",
      " [-9.  9.  6. -5. -6.]\n",
      " [-6. -3.  0. -1. -4.]\n",
      " [ 2. -7. -4. -2. -0.]]\n",
      "\n",
      "Способ 2 (astype(int)):\n",
      " [[-2  9  4  1 -6]\n",
      " [-6 -8  7  2  4]\n",
      " [-9  9  6 -5 -6]\n",
      " [-6 -3  0 -1 -4]\n",
      " [ 2 -7 -4 -2  0]]\n",
      "\n",
      "Способ 3 (floor):\n",
      " [[ -3.   9.   4.   1.  -7.]\n",
      " [ -7.  -9.   7.   2.   4.]\n",
      " [-10.   9.   6.  -6.  -7.]\n",
      " [ -7.  -4.   0.  -2.  -5.]\n",
      " [  2.  -8.  -5.  -3.  -1.]]\n"
     ]
    }
   ],
   "execution_count": 4
  },
  {
   "metadata": {},
   "cell_type": "markdown",
   "source": "Задание: создайте двумерный массив, а потом добавьте к нему границу толщины 2 (весь исходный массив должен быть в новом)"
  },
  {
   "metadata": {},
   "cell_type": "code",
   "outputs": [],
   "execution_count": null,
   "source": [
    "# 1. Создаем исходный массив (например, 3x3)\n",
    "original = np.array([[1, 2, 3],\n",
    "                     [4, 5, 6],\n",
    "                     [7, 8, 9]])\n",
    "\n",
    "\n",
    "border_width = 2\n",
    "border_value = 0\n",
    "\n",
    "new_shape = (original.shape[0] + 2*border_width,\n",
    "             original.shape[1] + 2*border_width)\n",
    "\n",
    "bordered = np.full(new_shape, border_value, dtype=original.dtype)\n",
    "bordered[border_width:-border_width, border_width:-border_width] = original\n",
    "\n",
    "print(original)\n",
    "print(bordered)"
   ]
  },
  {
   "metadata": {},
   "cell_type": "markdown",
   "source": "Задание: создайте массив 8х8, заполните 0 и 999 в шахматном порядке. "
  },
  {
   "metadata": {},
   "cell_type": "code",
   "outputs": [],
   "execution_count": null,
   "source": [
    "chess = np.zeros((8, 8), dtype=int)\n",
    "\n",
    "chess[::2, ::2] = 999  # четные строки, четные столбцы\n",
    "chess[1::2, 1::2] = 999  # нечетные строки, нечетные столбцы\n",
    "\n",
    "print(chess)"
   ]
  },
  {
   "metadata": {},
   "cell_type": "markdown",
   "source": "Задание: создайте массив 8х8, заполните 0 и 999 в шахматном порядке. Используйте функцию tile"
  },
  {
   "metadata": {},
   "cell_type": "code",
   "outputs": [],
   "execution_count": null,
   "source": [
    "pattern = np.array([[999, 0], [0, 999]])\n",
    "chess = np.tile(pattern, (4, 4))\n",
    "print(chess)"
   ]
  },
  {
   "metadata": {},
   "cell_type": "markdown",
   "source": "Задание: нормализуйте случайный массив"
  },
  {
   "metadata": {
    "ExecuteTime": {
     "end_time": "2025-05-29T23:25:56.176839Z",
     "start_time": "2025-05-29T23:25:56.171276Z"
    }
   },
   "cell_type": "code",
   "source": [
    "np.random.seed(42)\n",
    "arr = np.random.rand(5, 5) * 100\n",
    "normalized = (arr - arr.min()) / (arr.max() - arr.min())\n",
    "print(\"Исходный массив:\\n\", arr)\n",
    "print(\"\\nНормализованный массив:\\n\", normalized)"
   ],
   "outputs": [
    {
     "name": "stdout",
     "output_type": "stream",
     "text": [
      "Исходный массив:\n",
      " [[37.45401188 95.07143064 73.19939418 59.86584842 15.60186404]\n",
      " [15.59945203  5.80836122 86.61761458 60.11150117 70.80725778]\n",
      " [ 2.05844943 96.99098522 83.24426408 21.23391107 18.18249672]\n",
      " [18.34045099 30.4242243  52.47564316 43.19450186 29.12291402]\n",
      " [61.18528947 13.94938607 29.21446485 36.63618433 45.60699842]]\n",
      "\n",
      "Нормализованный массив:\n",
      " [[0.37284965 0.9797798  0.74938422 0.60893137 0.14266357]\n",
      " [0.14263816 0.03950081 0.89072903 0.61151903 0.72418595]\n",
      " [0.         1.         0.85519484 0.20199041 0.16984743]\n",
      " [0.17151129 0.2987993  0.53108445 0.4333188  0.28509156]\n",
      " [0.62283009 0.12525671 0.28605594 0.36423482 0.45873155]]\n"
     ]
    }
   ],
   "execution_count": 5
  },
  {
   "metadata": {},
   "cell_type": "markdown",
   "source": "Задание: Создайте квадратные матрицы A, B. Посчитайте ((A+B)*(-A/2)) без копирования массивов."
  },
  {
   "metadata": {
    "ExecuteTime": {
     "end_time": "2025-05-29T23:26:48.423571Z",
     "start_time": "2025-05-29T23:26:48.418904Z"
    }
   },
   "cell_type": "code",
   "source": [
    "np.random.seed(42)  # для воспроизводимости\n",
    "A = np.random.uniform(-10, 10, size=(3, 3))\n",
    "B = np.random.uniform(-10, 10, size=(3, 3))\n",
    "\n",
    "result = np.add(A, B, out=B)\n",
    "np.negative(A, out=A)\n",
    "np.divide(A, 2, out=A)\n",
    "np.multiply(B, A, out=result)\n",
    "\n",
    "print(\"Результат:\")\n",
    "print(result)"
   ],
   "outputs": [
    {
     "name": "stdout",
     "output_type": "stream",
     "text": [
      "Результат:\n",
      "[[  2.07291582   2.58720823 -32.56748559]\n",
      " [ -8.50635671 -43.4546319  -45.55874496]\n",
      " [-67.03976585 -12.48062975  -2.5454985 ]]\n"
     ]
    }
   ],
   "execution_count": 8
  },
  {
   "metadata": {},
   "cell_type": "markdown",
   "source": [
    "- Задание: создайте случайный вектор размера 10 и отсортируйте\n",
    "- Доп.задание: отсортируйте строки двумерной матрицы 6х6"
   ]
  },
  {
   "metadata": {},
   "cell_type": "code",
   "outputs": [],
   "execution_count": null,
   "source": [
    "np.random.seed(42)\n",
    "vector = np.random.randint(0, 100, 10)\n",
    "print(vector)\n",
    "sorted_vector = np.sort(vector)\n",
    "print(sorted_vector)\n",
    "\n",
    "matrix = np.random.randint(0, 100, (6, 6))\n",
    "print(matrix)\n",
    "\n",
    "sorted_matrix = np.sort(matrix, axis=1)\n",
    "\n",
    "print(sorted_matrix)"
   ]
  },
  {
   "metadata": {},
   "cell_type": "markdown",
   "source": "Задание: Вычтите среднее из строк матрицы."
  },
  {
   "metadata": {},
   "cell_type": "code",
   "outputs": [],
   "execution_count": null,
   "source": [
    "np.random.seed(42)\n",
    "matrix = np.random.randint(1, 10, size=(4, 3))\n",
    "print(matrix)\n",
    "\n",
    "row_means = matrix.mean(axis=1).reshape(-1, 1)\n",
    "centered_matrix = matrix - row_means\n",
    "\n",
    "print(centered_matrix)"
   ]
  },
  {
   "metadata": {},
   "cell_type": "markdown",
   "source": "Задание: Создайте массив [[1, 0, null, 2, 4, null, 9],[null, 1, 0, -2, null, null, 3]]. Выведите маску, в которой 1 соответствуют null значениям."
  },
  {
   "metadata": {},
   "cell_type": "code",
   "outputs": [],
   "execution_count": null,
   "source": [
    "arr = np.array([\n",
    "    [1, 0, None, 2, 4, None, 9],\n",
    "    [None, 1, 0, -2, None, None, 3]\n",
    "], dtype=object)\n",
    "print(arr)\n",
    "mask = np.where(arr == None, 1, 0)\n",
    "print(mask)"
   ]
  },
  {
   "metadata": {},
   "cell_type": "markdown",
   "source": [
    "**Задание**:\n",
    "Дан временной ряд дневной цены некоторого актива:\n",
    "\n",
    "stock_prices = np.array([100, 102, 101, 105, 107, 110, 108, 109, 112, 115, 114, 116, 118, 120, 119])\n",
    "1) Постройте временной ряд недельного скользящего среднего, то есть скользящего среднего с окном, равным одной неделе. При построении скользящего среднего ряда игнорируйте ту часть исходного временного ряда, где в окно попадает меньше одной недели.\n",
    "2) Постройте линейный график исходной цены и цены, полученной с помощью скользящего среднего"
   ]
  },
  {
   "metadata": {
    "ExecuteTime": {
     "end_time": "2025-05-29T23:39:21.834256Z",
     "start_time": "2025-05-29T23:39:21.222550Z"
    }
   },
   "cell_type": "code",
   "source": [
    "import matplotlib.pyplot as plt\n",
    "stock_prices = np.array([100, 102, 101, 105, 107, 110, 108, 109, 112, 115, 114, 116, 118, 120, 119])\n",
    "window_size = 5  # недельное окно (5 рабочих дней)\n",
    "moving_avg = np.convolve(stock_prices, np.ones(window_size)/window_size, mode='valid')\n",
    "\n",
    "plt.plot(stock_prices, label='Original')\n",
    "plt.plot(np.arange(window_size - 1, len(stock_prices)), moving_avg, label='Moving Average')\n",
    "plt.legend()\n",
    "plt.show()"
   ],
   "outputs": [
    {
     "data": {
      "text/plain": [
       "<Figure size 640x480 with 1 Axes>"
      ],
      "image/png": "[encoded data removed]"
     },
     "metadata": {},
     "output_type": "display_data"
    }
   ],
   "execution_count": 17
  },
  {
   "metadata": {},
   "cell_type": "markdown",
   "source": "**Задание**: создайте график 2х1, постройте графики sin(x), e**(x). Используйте в графике с e**x логарифмическую шкалу (semilogx, semilogy или loglog)."
  },
  {
   "metadata": {
    "ExecuteTime": {
     "end_time": "2025-05-29T23:39:25.630713Z",
     "start_time": "2025-05-29T23:39:25.339319Z"
    }
   },
   "cell_type": "code",
   "source": [
    "x = np.linspace(0, 2 * np.pi, 100)\n",
    "y1 = np.sin(x)\n",
    "y2 = np.exp(x)\n",
    "\n",
    "fig, axes = plt.subplots(2, 1, figsize=(8, 6))\n",
    "axes[0].plot(x, y1, 'r')\n",
    "axes[1].semilogy(x, y2, 'b')\n",
    "plt.show()"
   ],
   "outputs": [
    {
     "data": {
      "text/plain": [
       "<Figure size 800x600 with 2 Axes>"
      ],
      "image/png": "[encoded data removed]"
     },
     "metadata": {},
     "output_type": "display_data"
    }
   ],
   "execution_count": 18
  },
  {
   "metadata": {
    "ExecuteTime": {
     "end_time": "2025-05-29T23:37:36.384849Z",
     "start_time": "2025-05-29T23:37:36.089061Z"
    }
   },
   "cell_type": "code",
   "source": "import pandas as pd",
   "outputs": [],
   "execution_count": 14
  },
  {
   "metadata": {
    "ExecuteTime": {
     "end_time": "2025-05-29T23:42:42.004617Z",
     "start_time": "2025-05-29T23:42:41.974347Z"
    }
   },
   "cell_type": "code",
   "source": [
    "df_csv = pd.read_csv(cfg['house_pricing']['train_dataset'])\n",
    "df_csv.head()"
   ],
   "outputs": [
    {
     "data": {
      "text/plain": [
       "   Id  MSSubClass MSZoning  LotFrontage  LotArea Street Alley LotShape  \\\n",
       "0   1          60       RL         65.0     8450   Pave   NaN      Reg   \n",
       "1   2          20       RL         80.0     9600   Pave   NaN      Reg   \n",
       "2   3          60       RL         68.0    11250   Pave   NaN      IR1   \n",
       "3   4          70       RL         60.0     9550   Pave   NaN      IR1   \n",
       "4   5          60       RL         84.0    14260   Pave   NaN      IR1   \n",
       "\n",
       "  LandContour Utilities  ... PoolArea PoolQC Fence MiscFeature MiscVal MoSold  \\\n",
       "0         Lvl    AllPub  ...        0    NaN   NaN         NaN       0      2   \n",
       "1         Lvl    AllPub  ...        0    NaN   NaN         NaN       0      5   \n",
       "2         Lvl    AllPub  ...        0    NaN   NaN         NaN       0      9   \n",
       "3         Lvl    AllPub  ...        0    NaN   NaN         NaN       0      2   \n",
       "4         Lvl    AllPub  ...        0    NaN   NaN         NaN       0     12   \n",
       "\n",
       "  YrSold  SaleType  SaleCondition  SalePrice  \n",
       "0   2008        WD         Normal     208500  \n",
       "1   2007        WD         Normal     181500  \n",
       "2   2008        WD         Normal     223500  \n",
       "3   2006        WD        Abnorml     140000  \n",
       "4   2008        WD         Normal     250000  \n",
       "\n",
       "[5 rows x 81 columns]"
      ],
      "text/html": [
       "<div>\n",
       "<style scoped>\n",
       "    .dataframe tbody tr th:only-of-type {\n",
       "        vertical-align: middle;\n",
       "    }\n",
       "\n",
       "    .dataframe tbody tr th {\n",
       "        vertical-align: top;\n",
       "    }\n",
       "\n",
       "    .dataframe thead th {\n",
       "        text-align: right;\n",
       "    }\n",
       "</style>\n",
       "<table border=\"1\" class=\"dataframe\">\n",
       "  <thead>\n",
       "    <tr style=\"text-align: right;\">\n",
       "      <th></th>\n",
       "      <th>Id</th>\n",
       "      <th>MSSubClass</th>\n",
       "      <th>MSZoning</th>\n",
       "      <th>LotFrontage</th>\n",
       "      <th>LotArea</th>\n",
       "      <th>Street</th>\n",
       "      <th>Alley</th>\n",
       "      <th>LotShape</th>\n",
       "      <th>LandContour</th>\n",
       "      <th>Utilities</th>\n",
       "      <th>...</th>\n",
       "      <th>PoolArea</th>\n",
       "      <th>PoolQC</th>\n",
       "      <th>Fence</th>\n",
       "      <th>MiscFeature</th>\n",
       "      <th>MiscVal</th>\n",
       "      <th>MoSold</th>\n",
       "      <th>YrSold</th>\n",
       "      <th>SaleType</th>\n",
       "      <th>SaleCondition</th>\n",
       "      <th>SalePrice</th>\n",
       "    </tr>\n",
       "  </thead>\n",
       "  <tbody>\n",
       "    <tr>\n",
       "      <th>0</th>\n",
       "      <td>1</td>\n",
       "      <td>60</td>\n",
       "      <td>RL</td>\n",
       "      <td>65.0</td>\n",
       "      <td>8450</td>\n",
       "      <td>Pave</td>\n",
       "      <td>NaN</td>\n",
       "      <td>Reg</td>\n",
       "      <td>Lvl</td>\n",
       "      <td>AllPub</td>\n",
       "      <td>...</td>\n",
       "      <td>0</td>\n",
       "      <td>NaN</td>\n",
       "      <td>NaN</td>\n",
       "      <td>NaN</td>\n",
       "      <td>0</td>\n",
       "      <td>2</td>\n",
       "      <td>2008</td>\n",
       "      <td>WD</td>\n",
       "      <td>Normal</td>\n",
       "      <td>208500</td>\n",
       "    </tr>\n",
       "    <tr>\n",
       "      <th>1</th>\n",
       "      <td>2</td>\n",
       "      <td>20</td>\n",
       "      <td>RL</td>\n",
       "      <td>80.0</td>\n",
       "      <td>9600</td>\n",
       "      <td>Pave</td>\n",
       "      <td>NaN</td>\n",
       "      <td>Reg</td>\n",
       "      <td>Lvl</td>\n",
       "      <td>AllPub</td>\n",
       "      <td>...</td>\n",
       "      <td>0</td>\n",
       "      <td>NaN</td>\n",
       "      <td>NaN</td>\n",
       "      <td>NaN</td>\n",
       "      <td>0</td>\n",
       "      <td>5</td>\n",
       "      <td>2007</td>\n",
       "      <td>WD</td>\n",
       "      <td>Normal</td>\n",
       "      <td>181500</td>\n",
       "    </tr>\n",
       "    <tr>\n",
       "      <th>2</th>\n",
       "      <td>3</td>\n",
       "      <td>60</td>\n",
       "      <td>RL</td>\n",
       "      <td>68.0</td>\n",
       "      <td>11250</td>\n",
       "      <td>Pave</td>\n",
       "      <td>NaN</td>\n",
       "      <td>IR1</td>\n",
       "      <td>Lvl</td>\n",
       "      <td>AllPub</td>\n",
       "      <td>...</td>\n",
       "      <td>0</td>\n",
       "      <td>NaN</td>\n",
       "      <td>NaN</td>\n",
       "      <td>NaN</td>\n",
       "      <td>0</td>\n",
       "      <td>9</td>\n",
       "      <td>2008</td>\n",
       "      <td>WD</td>\n",
       "      <td>Normal</td>\n",
       "      <td>223500</td>\n",
       "    </tr>\n",
       "    <tr>\n",
       "      <th>3</th>\n",
       "      <td>4</td>\n",
       "      <td>70</td>\n",
       "      <td>RL</td>\n",
       "      <td>60.0</td>\n",
       "      <td>9550</td>\n",
       "      <td>Pave</td>\n",
       "      <td>NaN</td>\n",
       "      <td>IR1</td>\n",
       "      <td>Lvl</td>\n",
       "      <td>AllPub</td>\n",
       "      <td>...</td>\n",
       "      <td>0</td>\n",
       "      <td>NaN</td>\n",
       "      <td>NaN</td>\n",
       "      <td>NaN</td>\n",
       "      <td>0</td>\n",
       "      <td>2</td>\n",
       "      <td>2006</td>\n",
       "      <td>WD</td>\n",
       "      <td>Abnorml</td>\n",
       "      <td>140000</td>\n",
       "    </tr>\n",
       "    <tr>\n",
       "      <th>4</th>\n",
       "      <td>5</td>\n",
       "      <td>60</td>\n",
       "      <td>RL</td>\n",
       "      <td>84.0</td>\n",
       "      <td>14260</td>\n",
       "      <td>Pave</td>\n",
       "      <td>NaN</td>\n",
       "      <td>IR1</td>\n",
       "      <td>Lvl</td>\n",
       "      <td>AllPub</td>\n",
       "      <td>...</td>\n",
       "      <td>0</td>\n",
       "      <td>NaN</td>\n",
       "      <td>NaN</td>\n",
       "      <td>NaN</td>\n",
       "      <td>0</td>\n",
       "      <td>12</td>\n",
       "      <td>2008</td>\n",
       "      <td>WD</td>\n",
       "      <td>Normal</td>\n",
       "      <td>250000</td>\n",
       "    </tr>\n",
       "  </tbody>\n",
       "</table>\n",
       "<p>5 rows × 81 columns</p>\n",
       "</div>"
      ]
     },
     "execution_count": 28,
     "metadata": {},
     "output_type": "execute_result"
    }
   ],
   "execution_count": 28
  },
  {
   "metadata": {},
   "cell_type": "markdown",
   "source": "**Задание**: найдите максимальное число пустых значений в строке."
  },
  {
   "metadata": {
    "ExecuteTime": {
     "end_time": "2025-05-29T23:45:39.129851Z",
     "start_time": "2025-05-29T23:45:39.118990Z"
    }
   },
   "cell_type": "code",
   "source": [
    "max_nulls = df_csv.isna().sum(axis=1).max()\n",
    "max_nulls"
   ],
   "outputs": [
    {
     "data": {
      "text/plain": [
       "np.int64(16)"
      ]
     },
     "execution_count": 33,
     "metadata": {},
     "output_type": "execute_result"
    }
   ],
   "execution_count": 33
  },
  {
   "metadata": {},
   "cell_type": "markdown",
   "source": "**Задание**: сколько строк вообще не имеют пустых значений? Сколько строк имеет не больше одного?"
  },
  {
   "metadata": {
    "ExecuteTime": {
     "end_time": "2025-05-29T23:46:05.848243Z",
     "start_time": "2025-05-29T23:46:05.837034Z"
    }
   },
   "cell_type": "code",
   "source": [
    "no_nulls = df_csv.dropna().shape[0]\n",
    "one_or_less_nulls = (df_csv.isna().sum(axis=1) <= 1).sum()\n",
    "one_or_less_nulls"
   ],
   "outputs": [
    {
     "data": {
      "text/plain": [
       "np.int64(1)"
      ]
     },
     "execution_count": 35,
     "metadata": {},
     "output_type": "execute_result"
    }
   ],
   "execution_count": 35
  },
  {
   "metadata": {},
   "cell_type": "markdown",
   "source": [
    "**Задание**:\n",
    "Найдете вме столбцы с  NaN значениями. Отсортируйте по увеличению числа NaN и постройте barplot."
   ]
  },
  {
   "metadata": {
    "ExecuteTime": {
     "end_time": "2025-05-29T23:47:39.339374Z",
     "start_time": "2025-05-29T23:47:39.198978Z"
    }
   },
   "cell_type": "code",
   "source": [
    "null_counts = df_csv.isna().sum().sort_values()\n",
    "null_counts[null_counts > 0].plot.bar(figsize=(12, 6))\n",
    "plt.show()"
   ],
   "outputs": [
    {
     "data": {
      "text/plain": [
       "<Figure size 1200x600 with 1 Axes>"
      ],
      "image/png": "[encoded data removed]"
     },
     "metadata": {},
     "output_type": "display_data"
    }
   ],
   "execution_count": 37
  },
  {
   "metadata": {},
   "cell_type": "markdown",
   "source": "Отличный инструмент для графиков  - seaborn. Это обертка над matplotlib, которая также предоставляет более широкий набор опций"
  },
  {
   "metadata": {
    "ExecuteTime": {
     "end_time": "2025-05-29T23:48:09.337101Z",
     "start_time": "2025-05-29T23:48:09.128954Z"
    }
   },
   "cell_type": "code",
   "source": [
    "import seaborn as sns\n",
    "from matplotlib import pyplot as plt"
   ],
   "outputs": [
    {
     "data": {
      "text/plain": [
       "<Axes: xlabel='SalePrice', ylabel='Count'>"
      ]
     },
     "execution_count": 39,
     "metadata": {},
     "output_type": "execute_result"
    },
    {
     "data": {
      "text/plain": [
       "<Figure size 640x480 with 1 Axes>"
      ],
      "image/png": "[encoded data removed]"
     },
     "metadata": {},
     "output_type": "display_data"
    }
   ],
   "execution_count": 39
  },
  {
   "metadata": {},
   "cell_type": "markdown",
   "source": "**Задание**: Постройте гистограмму, но с 20 бинами."
  },
  {
   "metadata": {
    "ExecuteTime": {
     "end_time": "2025-05-29T23:48:26.200665Z",
     "start_time": "2025-05-29T23:48:26.081145Z"
    }
   },
   "cell_type": "code",
   "source": [
    "sns.histplot(df_csv['SalePrice'], bins=20)\n",
    "plt.show()"
   ],
   "outputs": [
    {
     "data": {
      "text/plain": [
       "<Figure size 640x480 with 1 Axes>"
      ],
      "image/png": "[encoded data removed]"
     },
     "metadata": {},
     "output_type": "display_data"
    }
   ],
   "execution_count": 40
  },
  {
   "metadata": {},
   "cell_type": "code",
   "outputs": [],
   "execution_count": null,
   "source": "sns.histplot(x=df_csv['SalePrice'], #yout_code# , element=\"step\")"
  },
  {
   "metadata": {},
   "cell_type": "markdown",
   "source": "**Задание**: Постройте scatterplot через seaborn (scatter) для нескольких пар столбцов из датасета"
  },
  {
   "metadata": {
    "ExecuteTime": {
     "end_time": "2025-05-29T23:48:32.354423Z",
     "start_time": "2025-05-29T23:48:32.234411Z"
    }
   },
   "cell_type": "code",
   "source": "sns.scatterplot(x=df_csv[\"LotFrontage\"], y=df_csv[\"SalePrice\"])",
   "outputs": [
    {
     "data": {
      "text/plain": [
       "<Axes: xlabel='LotFrontage', ylabel='SalePrice'>"
      ]
     },
     "execution_count": 41,
     "metadata": {},
     "output_type": "execute_result"
    },
    {
     "data": {
      "text/plain": [
       "<Figure size 640x480 with 1 Axes>"
      ],
      "image/png": "[encoded data removed]"
     },
     "metadata": {},
     "output_type": "display_data"
    }
   ],
   "execution_count": 41
  }
 ],
 "metadata": {
  "interpreter": {
   "hash": "2b3714695f2307aafe7da52bf6e53e38bc5469a267534973be7d21c816457eaf"
  },
  "kernelspec": {
   "display_name": "Python 3 (ipykernel)",
   "language": "python",
   "name": "python3"
  },
  "language_info": {
   "codemirror_mode": {
    "name": "ipython",
    "version": 3
   },
   "file_extension": ".py",
   "mimetype": "text/x-python",
   "name": "python",
   "nbconvert_exporter": "python",
   "pygments_lexer": "ipython3",
   "version": "3.10.9"
  }
 },
 "nbformat": 4,
 "nbformat_minor": 2
}
