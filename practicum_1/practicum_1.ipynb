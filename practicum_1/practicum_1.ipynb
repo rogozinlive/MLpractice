{
 "cells": [
  {
   "metadata": {
    "ExecuteTime": {
     "end_time": "2025-05-29T23:30:39.082643Z",
     "start_time": "2025-05-29T23:30:39.059642Z"
    }
   },
   "cell_type": "code",
   "source": [
    "import yaml\n",
    "with open('../config.yaml', 'r') as f:\n",
    "    cfg = yaml.safe_load(f)"
   ],
   "outputs": [],
   "execution_count": 12
  },
  {
   "metadata": {
    "ExecuteTime": {
     "end_time": "2025-05-29T23:22:48.080641Z",
     "start_time": "2025-05-29T23:22:48.011670Z"
    }
   },
   "cell_type": "code",
   "source": "import numpy as np",
   "outputs": [],
   "execution_count": 2
  },
  {
   "metadata": {},
   "cell_type": "markdown",
   "source": "Задание 1. Создайте вектор со значениями от 0 до 65"
  },
  {
   "metadata": {
    "ExecuteTime": {
     "end_time": "2025-05-29T23:18:19.165474Z",
     "start_time": "2025-05-29T23:18:19.161751Z"
    }
   },
   "cell_type": "code",
   "source": [
    "import numpy as np\n",
    "vector = np.arange(66)\n",
    "print(vector)"
   ],
   "outputs": [
    {
     "name": "stdout",
     "output_type": "stream",
     "text": [
      "[ 0  1  2  3  4  5  6  7  8  9 10 11 12 13 14 15 16 17 18 19 20 21 22 23\n",
      " 24 25 26 27 28 29 30 31 32 33 34 35 36 37 38 39 40 41 42 43 44 45 46 47\n",
      " 48 49 50 51 52 53 54 55 56 57 58 59 60 61 62 63 64 65]\n"
     ]
    }
   ],
   "execution_count": 6
  },
  {
   "metadata": {},
   "cell_type": "markdown",
   "source": "**Задание**: Создайте матрицу 3х3 со значениями от 0 до 9"
  },
  {
   "metadata": {
    "ExecuteTime": {
     "end_time": "2025-05-29T23:06:15.202430Z",
     "start_time": "2025-05-29T23:06:15.196190Z"
    }
   },
   "cell_type": "code",
   "source": [
    "matrix = np.arange(9).reshape(3, 3)\n",
    "matrix"
   ],
   "outputs": [
    {
     "data": {
      "text/plain": [
       "array([[0, 1, 2],\n",
       "       [3, 4, 5],\n",
       "       [6, 7, 8]])"
      ]
     },
     "execution_count": 4,
     "metadata": {},
     "output_type": "execute_result"
    }
   ],
   "execution_count": 4
  },
  {
   "metadata": {},
   "cell_type": "markdown",
   "source": "**Задание**: создайте матрицу 9 на 9, заполните случайными значениями и найдите максимальный, минимальный элемент и среднее значение."
  },
  {
   "metadata": {
    "ExecuteTime": {
     "end_time": "2025-05-29T23:18:22.753476Z",
     "start_time": "2025-05-29T23:18:22.551990Z"
    }
   },
   "cell_type": "code",
   "source": [
    "matrix = np.random.rand(9, 9)\n",
    "max_val = np.max(matrix)\n",
    "min_val = np.min(matrix)\n",
    "mean_val = np.mean(matrix)\n",
    "print(f\"Max: {max_val}, Min: {min_val}, Mean: {mean_val}\")\n",
    "matrix"
   ],
   "outputs": [
    {
     "name": "stdout",
     "output_type": "stream",
     "text": [
      "Max: 0.9807744093260578, Min: 0.007024909514075861, Mean: 0.4861841315492227\n"
     ]
    },
    {
     "data": {
      "text/plain": [
       "array([[0.98077441, 0.49462886, 0.29701208, 0.80664612, 0.11157782,\n",
       "        0.49841412, 0.21431235, 0.82763736, 0.10768034],\n",
       "       [0.31789676, 0.54993282, 0.85561745, 0.88891851, 0.07353453,\n",
       "        0.12768484, 0.01745744, 0.9445725 , 0.29557994],\n",
       "       [0.94239192, 0.45968974, 0.13694881, 0.28740149, 0.8713594 ,\n",
       "        0.15969064, 0.63276656, 0.51286361, 0.07641609],\n",
       "       [0.84745359, 0.59092718, 0.70006729, 0.4618851 , 0.82931699,\n",
       "        0.83658825, 0.0448061 , 0.72197884, 0.26380324],\n",
       "       [0.92174265, 0.26806614, 0.27976505, 0.24238216, 0.39817391,\n",
       "        0.00702491, 0.22032094, 0.12260389, 0.88987416],\n",
       "       [0.72775112, 0.64077346, 0.48731063, 0.44246767, 0.59813157,\n",
       "        0.94021594, 0.21006617, 0.33576464, 0.35278714],\n",
       "       [0.11947919, 0.14942932, 0.54244571, 0.50457458, 0.1231625 ,\n",
       "        0.81592216, 0.19238413, 0.02032383, 0.62325173],\n",
       "       [0.26702561, 0.82792193, 0.90287935, 0.53249663, 0.22360444,\n",
       "        0.23374019, 0.24830927, 0.83957789, 0.78023982],\n",
       "       [0.78670041, 0.70753622, 0.58866972, 0.29479661, 0.64067196,\n",
       "        0.65675068, 0.50025756, 0.6692697 , 0.71803827]])"
      ]
     },
     "execution_count": 7,
     "metadata": {},
     "output_type": "execute_result"
    }
   ],
   "execution_count": 7
  },
  {
   "metadata": {},
   "cell_type": "markdown",
   "source": "**Задание**: разверните массив (1, 2, 3) -> (3, 2, 1)"
  },
  {
   "metadata": {
    "ExecuteTime": {
     "end_time": "2025-05-29T23:32:39.928589Z",
     "start_time": "2025-05-29T23:32:39.921541Z"
    }
   },
   "cell_type": "code",
   "source": [
    "arr = np.array([1, 2, 3])\n",
    "reversed_arr = arr[::-1]\n",
    "reversed_arr"
   ],
   "outputs": [
    {
     "data": {
      "text/plain": [
       "array([3, 2, 1])"
      ]
     },
     "execution_count": 13,
     "metadata": {},
     "output_type": "execute_result"
    }
   ],
   "execution_count": 13
  },
  {
   "metadata": {},
   "cell_type": "markdown",
   "source": "**Задание**: Создайте массив 5х5 и заполните двойками обе диагонали, а нулями все остальное"
  },
  {
   "metadata": {},
   "cell_type": "code",
   "outputs": [],
   "execution_count": null,
   "source": [
    "matrix = np.zeros((5, 5))\n",
    "np.fill_diagonal(matrix, 2)\n",
    "np.fill_diagonal(np.fliplr(matrix), 2)\n",
    "print(matrix)"
   ]
  },
  {
   "metadata": {},
   "cell_type": "markdown",
   "source": "**Задание**: Создайте массив с значениями 1,2,3,4 на 1 поддиагонали "
  },
  {
   "metadata": {},
   "cell_type": "code",
   "outputs": [],
   "execution_count": null,
   "source": [
    "matrix = np.zeros((5, 5))\n",
    "np.fill_diagonal(matrix[1:], [1, 2, 3, 4])\n",
    "print(matrix)"
   ]
  },
  {
   "metadata": {},
   "cell_type": "markdown",
   "source": "**Задание**: найдите ненулевые элементы массива [1,2,0,0,8,0, 4,1]"
  },
  {
   "metadata": {},
   "cell_type": "code",
   "outputs": [],
   "execution_count": null,
   "source": [
    "arr = np.array([1, 2, 0, 0, 8, 0, 4, 1])\n",
    "\n",
    "nonzero_indices = np.nonzero(arr)[0]  # [0, 1, 4, 6, 7]\n",
    "nonzero_values = arr[nonzero_indices]  # [1, 2, 8, 4, 1]"
   ]
  },
  {
   "metadata": {},
   "cell_type": "markdown",
   "source": "**Задание**: Создайте 2 массива 2х4, проверьте, что они одинаковы"
  },
  {
   "metadata": {},
   "cell_type": "code",
   "outputs": [],
   "execution_count": null,
   "source": [
    "arr1 = np.array([[1, 2, 3, 4], [5, 6, 7, 8]])\n",
    "arr2 = np.array([[1, 2, 3, 4], [5, 6, 7, 8]])\n",
    "are_equal = np.array_equal(arr1, arr2)"
   ]
  },
  {
   "metadata": {},
   "cell_type": "markdown",
   "source": "**Задание**: Создайте вектор х длины 5 и матрицу А размера 5х4. Перемножьте их, чтобы получить результаты размера [1,5], [5], [4x5] "
  },
  {
   "metadata": {},
   "cell_type": "code",
   "outputs": [],
   "execution_count": null,
   "source": [
    "x = np.array([1, 2, 3, 4, 5])\n",
    "A = np.array([\n",
    "    [1, 2, 3, 4],\n",
    "    [5, 6, 7, 8],\n",
    "    [9, 10, 11, 12],\n",
    "    [13, 14, 15, 16],\n",
    "    [17, 18, 19, 20]\n",
    "])\n",
    "\n",
    "\n",
    "x_1x5 = x.reshape(1, 5)\n",
    "result_1x5 = x_1x5 @ A\n",
    "\n",
    "result_5 = x * A[:,0]\n",
    "\n",
    "diag_x = np.diag(x)\n",
    "result_4x5 = A.T @ diag_x  # [4,5] @ [5,5] = [4,5]\n",
    "\n",
    "print(\"Вектор x:\", x)\n",
    "print(\"Матрица A:\\n\", A)\n",
    "print(\"\\n1. Результат размера [1,5]:\\n\", result_1x5)\n",
    "print(\"\\n2. Результат размера [5] (поэлементное умножение на 1-й столбец):\\n\", result_5)\n",
    "print(\"\\n3. Результат размера [4,5]:\\n\", result_4x5)"
   ]
  },
  {
   "metadata": {},
   "cell_type": "markdown",
   "source": "Задание: Извлеките целые части из случайного массива размера 5х5 (с float типом) как минимум 3 разными способами"
  },
  {
   "metadata": {
    "ExecuteTime": {
     "end_time": "2025-05-29T23:25:05.404924Z",
     "start_time": "2025-05-29T23:25:05.390010Z"
    }
   },
   "cell_type": "code",
   "source": [
    "# Создаем случайный массив 5x5 с float-числами от -10 до 10\n",
    "np.random.seed(42)  # для воспроизводимости\n",
    "arr = np.random.uniform(-10, 10, size=(5, 5))\n",
    "print(\"Исходный массив:\\n\", arr)\n",
    "\n",
    "# Способ 1: Использование np.trunc()\n",
    "int_part1 = np.trunc(arr)\n",
    "\n",
    "# Способ 2: Приведение типа к int (отбрасывает дробную часть)\n",
    "int_part2 = arr.astype(int)\n",
    "\n",
    "# Способ 3: Использование np.floor() (округляет вниз)\n",
    "int_part3 = np.floor(arr)\n",
    "\n",
    "print(\"\\nСпособ 1 (trunc):\\n\", int_part1)\n",
    "print(\"\\nСпособ 2 (astype(int)):\\n\", int_part2)\n",
    "print(\"\\nСпособ 3 (floor):\\n\", int_part3)"
   ],
   "outputs": [
    {
     "name": "stdout",
     "output_type": "stream",
     "text": [
      "Исходный массив:\n",
      " [[-2.50919762  9.01428613  4.63987884  1.97316968 -6.87962719]\n",
      " [-6.88010959 -8.83832776  7.32352292  2.02230023  4.16145156]\n",
      " [-9.58831011  9.39819704  6.64885282 -5.75321779 -6.36350066]\n",
      " [-6.3319098  -3.91515514  0.49512863 -1.36109963 -4.1754172 ]\n",
      " [ 2.23705789 -7.21012279 -4.15710703 -2.67276313 -0.87860032]]\n",
      "\n",
      "Способ 1 (trunc):\n",
      " [[-2.  9.  4.  1. -6.]\n",
      " [-6. -8.  7.  2.  4.]\n",
      " [-9.  9.  6. -5. -6.]\n",
      " [-6. -3.  0. -1. -4.]\n",
      " [ 2. -7. -4. -2. -0.]]\n",
      "\n",
      "Способ 2 (astype(int)):\n",
      " [[-2  9  4  1 -6]\n",
      " [-6 -8  7  2  4]\n",
      " [-9  9  6 -5 -6]\n",
      " [-6 -3  0 -1 -4]\n",
      " [ 2 -7 -4 -2  0]]\n",
      "\n",
      "Способ 3 (floor):\n",
      " [[ -3.   9.   4.   1.  -7.]\n",
      " [ -7.  -9.   7.   2.   4.]\n",
      " [-10.   9.   6.  -6.  -7.]\n",
      " [ -7.  -4.   0.  -2.  -5.]\n",
      " [  2.  -8.  -5.  -3.  -1.]]\n"
     ]
    }
   ],
   "execution_count": 4
  },
  {
   "metadata": {},
   "cell_type": "markdown",
   "source": "Задание: создайте двумерный массив, а потом добавьте к нему границу толщины 2 (весь исходный массив должен быть в новом)"
  },
  {
   "metadata": {},
   "cell_type": "code",
   "outputs": [],
   "execution_count": null,
   "source": [
    "# 1. Создаем исходный массив (например, 3x3)\n",
    "original = np.array([[1, 2, 3],\n",
    "                     [4, 5, 6],\n",
    "                     [7, 8, 9]])\n",
    "\n",
    "\n",
    "border_width = 2\n",
    "border_value = 0\n",
    "\n",
    "new_shape = (original.shape[0] + 2*border_width,\n",
    "             original.shape[1] + 2*border_width)\n",
    "\n",
    "bordered = np.full(new_shape, border_value, dtype=original.dtype)\n",
    "bordered[border_width:-border_width, border_width:-border_width] = original\n",
    "\n",
    "print(original)\n",
    "print(bordered)"
   ]
  },
  {
   "metadata": {},
   "cell_type": "markdown",
   "source": "Задание: создайте массив 8х8, заполните 0 и 999 в шахматном порядке. "
  },
  {
   "metadata": {},
   "cell_type": "code",
   "outputs": [],
   "execution_count": null,
   "source": [
    "chess = np.zeros((8, 8), dtype=int)\n",
    "\n",
    "chess[::2, ::2] = 999  # четные строки, четные столбцы\n",
    "chess[1::2, 1::2] = 999  # нечетные строки, нечетные столбцы\n",
    "\n",
    "print(chess)"
   ]
  },
  {
   "metadata": {},
   "cell_type": "markdown",
   "source": "Задание: создайте массив 8х8, заполните 0 и 999 в шахматном порядке. Используйте функцию tile"
  },
  {
   "metadata": {},
   "cell_type": "code",
   "outputs": [],
   "execution_count": null,
   "source": [
    "pattern = np.array([[999, 0], [0, 999]])\n",
    "chess = np.tile(pattern, (4, 4))\n",
    "print(chess)"
   ]
  },
  {
   "metadata": {},
   "cell_type": "markdown",
   "source": "### Матричные вычисления"
  },
  {
   "metadata": {},
   "cell_type": "markdown",
   "source": "<p style=\"font-size:18px\"><b>inverse</b></p>"
  },
  {
   "metadata": {},
   "cell_type": "code",
   "outputs": [],
   "execution_count": null,
   "source": "np.linalg.inv(c) # то же: C.I "
  },
  {
   "metadata": {},
   "cell_type": "code",
   "outputs": [],
   "execution_count": null,
   "source": "c.I * c"
  },
  {
   "metadata": {},
   "cell_type": "markdown",
   "source": "<p style=\"font-size:18px\"><b>determinant</b></p>"
  },
  {
   "metadata": {},
   "cell_type": "code",
   "outputs": [],
   "execution_count": null,
   "source": "np.linalg.det(c)"
  },
  {
   "metadata": {},
   "cell_type": "code",
   "outputs": [],
   "execution_count": null,
   "source": "np.linalg.det(c.I)"
  },
  {
   "metadata": {},
   "cell_type": "markdown",
   "source": "Задание: нормализуйте случайный массив"
  },
  {
   "metadata": {
    "ExecuteTime": {
     "end_time": "2025-05-29T23:25:56.176839Z",
     "start_time": "2025-05-29T23:25:56.171276Z"
    }
   },
   "cell_type": "code",
   "source": [
    "np.random.seed(42)\n",
    "arr = np.random.rand(5, 5) * 100\n",
    "normalized = (arr - arr.min()) / (arr.max() - arr.min())\n",
    "print(\"Исходный массив:\\n\", arr)\n",
    "print(\"\\nНормализованный массив:\\n\", normalized)"
   ],
   "outputs": [
    {
     "name": "stdout",
     "output_type": "stream",
     "text": [
      "Исходный массив:\n",
      " [[37.45401188 95.07143064 73.19939418 59.86584842 15.60186404]\n",
      " [15.59945203  5.80836122 86.61761458 60.11150117 70.80725778]\n",
      " [ 2.05844943 96.99098522 83.24426408 21.23391107 18.18249672]\n",
      " [18.34045099 30.4242243  52.47564316 43.19450186 29.12291402]\n",
      " [61.18528947 13.94938607 29.21446485 36.63618433 45.60699842]]\n",
      "\n",
      "Нормализованный массив:\n",
      " [[0.37284965 0.9797798  0.74938422 0.60893137 0.14266357]\n",
      " [0.14263816 0.03950081 0.89072903 0.61151903 0.72418595]\n",
      " [0.         1.         0.85519484 0.20199041 0.16984743]\n",
      " [0.17151129 0.2987993  0.53108445 0.4333188  0.28509156]\n",
      " [0.62283009 0.12525671 0.28605594 0.36423482 0.45873155]]\n"
     ]
    }
   ],
   "execution_count": 5
  },
  {
   "metadata": {},
   "cell_type": "markdown",
   "source": "Задание: Создайте квадратные матрицы A, B. Посчитайте ((A+B)*(-A/2)) без копирования массивов."
  },
  {
   "metadata": {
    "ExecuteTime": {
     "end_time": "2025-05-29T23:26:48.423571Z",
     "start_time": "2025-05-29T23:26:48.418904Z"
    }
   },
   "cell_type": "code",
   "source": [
    "np.random.seed(42)  # для воспроизводимости\n",
    "A = np.random.uniform(-10, 10, size=(3, 3))\n",
    "B = np.random.uniform(-10, 10, size=(3, 3))\n",
    "\n",
    "result = np.add(A, B, out=B)\n",
    "np.negative(A, out=A)\n",
    "np.divide(A, 2, out=A)\n",
    "np.multiply(B, A, out=result)\n",
    "\n",
    "print(\"Результат:\")\n",
    "print(result)"
   ],
   "outputs": [
    {
     "name": "stdout",
     "output_type": "stream",
     "text": [
      "Результат:\n",
      "[[  2.07291582   2.58720823 -32.56748559]\n",
      " [ -8.50635671 -43.4546319  -45.55874496]\n",
      " [-67.03976585 -12.48062975  -2.5454985 ]]\n"
     ]
    }
   ],
   "execution_count": 8
  },
  {
   "metadata": {},
   "cell_type": "markdown",
   "source": "## Векторизация функций"
  },
  {
   "metadata": {},
   "cell_type": "markdown",
   "source": "Numpy предлагает средства для создания векторизованных оберток над функциями, которые изначально принимают на вход скалярные значения."
  },
  {
   "metadata": {},
   "cell_type": "code",
   "outputs": [],
   "execution_count": null,
   "source": [
    "def foo(x):\n",
    "    if x >= 0:\n",
    "        return 1\n",
    "    else:\n",
    "        return 0"
   ]
  },
  {
   "metadata": {},
   "cell_type": "code",
   "outputs": [],
   "execution_count": null,
   "source": "foo(np.array([-3, -2, -1, 0, 1, 2, 3]))"
  },
  {
   "metadata": {},
   "cell_type": "markdown",
   "source": [
    "Эта функция работает для скалярных данных. \n",
    "\n",
    "Чтобы это функция принимала векторные значения, необходимо провести векторизацию с помощью функии `vectorize`:"
   ]
  },
  {
   "metadata": {},
   "cell_type": "code",
   "outputs": [],
   "execution_count": null,
   "source": "foo_vec = np.vectorize(foo)"
  },
  {
   "metadata": {},
   "cell_type": "code",
   "outputs": [],
   "execution_count": null,
   "source": "foo_vec(np.array([-3, -2, -1, 0, 1, 2, 3]))"
  },
  {
   "metadata": {},
   "cell_type": "markdown",
   "source": [
    "- Задание: создайте случайный вектор размера 10 и отсортируйте\n",
    "- Доп.задание: отсортируйте строки двумерной матрицы 6х6"
   ]
  },
  {
   "metadata": {},
   "cell_type": "code",
   "outputs": [],
   "execution_count": null,
   "source": [
    "np.random.seed(42)\n",
    "vector = np.random.randint(0, 100, 10)\n",
    "print(vector)\n",
    "sorted_vector = np.sort(vector)\n",
    "print(sorted_vector)\n",
    "\n",
    "matrix = np.random.randint(0, 100, (6, 6))\n",
    "print(matrix)\n",
    "\n",
    "sorted_matrix = np.sort(matrix, axis=1)\n",
    "\n",
    "print(sorted_matrix)"
   ]
  },
  {
   "metadata": {},
   "cell_type": "markdown",
   "source": "Задание: Вычтите среднее из строк матрицы."
  },
  {
   "metadata": {},
   "cell_type": "code",
   "outputs": [],
   "execution_count": null,
   "source": [
    "np.random.seed(42)\n",
    "matrix = np.random.randint(1, 10, size=(4, 3))\n",
    "print(matrix)\n",
    "\n",
    "row_means = matrix.mean(axis=1).reshape(-1, 1)\n",
    "centered_matrix = matrix - row_means\n",
    "\n",
    "print(centered_matrix)"
   ]
  },
  {
   "metadata": {},
   "cell_type": "markdown",
   "source": "Задание: Создайте массив [[1, 0, null, 2, 4, null, 9],[null, 1, 0, -2, null, null, 3]]. Выведите маску, в которой 1 соответствуют null значениям."
  },
  {
   "metadata": {},
   "cell_type": "code",
   "outputs": [],
   "execution_count": null,
   "source": [
    "arr = np.array([\n",
    "    [1, 0, None, 2, 4, None, 9],\n",
    "    [None, 1, 0, -2, None, None, 3]\n",
    "], dtype=object)\n",
    "print(arr)\n",
    "mask = np.where(arr == None, 1, 0)\n",
    "print(mask)"
   ]
  },
  {
   "metadata": {},
   "cell_type": "markdown",
   "source": [
    "# Matplotlib\n",
    "\n",
    "* Пакет для Python, используемый для создания качественных 2D визуализацией (есть минимальная поддержка 3D)\n",
    "* Возможность создавать интерактивные графики\n",
    "* Добавление множества графиков на один рисунок с кастомным расположением\n",
    "* Экспорт в различные форматы изображений\n",
    "* Есть поддержка анимаций"
   ]
  },
  {
   "metadata": {},
   "cell_type": "code",
   "outputs": [],
   "execution_count": null,
   "source": [
    "# Позволяет matplotlib отображать графики сразу в notebook.\n",
    "%matplotlib inline"
   ]
  },
  {
   "metadata": {},
   "cell_type": "markdown",
   "source": "## Matplotlib API"
  },
  {
   "metadata": {},
   "cell_type": "markdown",
   "source": "Импортирование модуля `matplotlib.pyplot` под именем `plt`:"
  },
  {
   "metadata": {},
   "cell_type": "code",
   "outputs": [],
   "execution_count": null,
   "source": "import matplotlib.pyplot as plt"
  },
  {
   "metadata": {},
   "cell_type": "code",
   "outputs": [],
   "execution_count": null,
   "source": "import numpy as np"
  },
  {
   "metadata": {},
   "cell_type": "markdown",
   "source": "Простейший пример построения графиков в matplotlib:"
  },
  {
   "metadata": {},
   "cell_type": "code",
   "outputs": [],
   "execution_count": null,
   "source": [
    "x = np.linspace(-2., 2., 128, endpoint=True)\n",
    "y1 = x**2\n",
    "y2 = np.exp(x)\n",
    "plt.plot(x, y1)\n",
    "plt.plot(x, y2)\n",
    "plt.xlabel(r'$x \\in \\mathbb{R}$', fontsize=12)\n",
    "plt.ylabel(r'$y(x)$', fontsize=12)\n",
    "plt.show()"
   ]
  },
  {
   "metadata": {},
   "cell_type": "markdown",
   "source": "Рекомендуется создавать отдельный объект для каждого более-менее сложного графика. Это можно реализоваться, например, с помощью функии `subplots`:"
  },
  {
   "metadata": {},
   "cell_type": "code",
   "outputs": [],
   "execution_count": null,
   "source": [
    "# Сетка графиков -- 1x1. Размер задается с помощью figsize.\n",
    "fig, ax = plt.subplots(nrows=1, ncols=1, figsize=(8, 6))\n",
    "ax.plot(x, y1, color=\"blue\", linewidth=1.0, linestyle=\"-\")\n",
    "ax.plot(x, y2, color=\"green\", linewidth=1.0, linestyle=\"--\")\n",
    "ax.grid()\n",
    "ax.set_xlabel(r'$x$', fontsize=12)\n",
    "ax.set_ylabel(r'$y$', fontsize=12)\n",
    "plt.show()"
   ]
  },
  {
   "metadata": {},
   "cell_type": "markdown",
   "source": "Множественные графики"
  },
  {
   "metadata": {},
   "cell_type": "code",
   "outputs": [],
   "execution_count": null,
   "source": [
    "# Создаем 2 графика (в 2 колонках)\n",
    "fig, axes = plt.subplots(1, 2, figsize=(10, 6))\n",
    "axes[0].plot(x, y1, 'r')\n",
    "axes[1].plot(x, y2, 'b')\n",
    "fig.tight_layout()"
   ]
  },
  {
   "metadata": {},
   "cell_type": "markdown",
   "source": "## Сохранение графиков"
  },
  {
   "metadata": {},
   "cell_type": "markdown",
   "source": "Текущий график можно сохранить, вызвав метод `savefig` класса `Figure`:"
  },
  {
   "metadata": {},
   "cell_type": "code",
   "outputs": [],
   "execution_count": null,
   "source": "fig.savefig(\"filename.png\")"
  },
  {
   "metadata": {},
   "cell_type": "markdown",
   "source": "Также можно указать DPI и различные форматы:"
  },
  {
   "metadata": {},
   "cell_type": "code",
   "outputs": [],
   "execution_count": null,
   "source": "fig.savefig(\"filename.pdf\", dpi=200)"
  },
  {
   "metadata": {},
   "cell_type": "markdown",
   "source": "### Легенды, описания осей и графиков"
  },
  {
   "metadata": {},
   "cell_type": "markdown",
   "source": "**Заголовок графика**\n"
  },
  {
   "metadata": {},
   "cell_type": "markdown",
   "source": "`axes.set_title(\"title\")`"
  },
  {
   "metadata": {},
   "cell_type": "markdown",
   "source": "**Описания осей**\n"
  },
  {
   "metadata": {},
   "cell_type": "markdown",
   "source": [
    "`axes.set_xlabel(\"x\")\n",
    "axes.set_ylabel(\"y\")`"
   ]
  },
  {
   "metadata": {},
   "cell_type": "markdown",
   "source": [
    "**Легенда**\n",
    "\n",
    "Легенды могут создаваться двумя способами. Первый -- явно через метод `legend`:"
   ]
  },
  {
   "metadata": {},
   "cell_type": "markdown",
   "source": "`axes.legend([\"curve1\", \"curve2\"])`"
  },
  {
   "metadata": {},
   "cell_type": "markdown",
   "source": "Второй метод -- использование `label=\"label text\"` при вызове `plot` с последующим вызовом метода `legend`: "
  },
  {
   "metadata": {},
   "cell_type": "markdown",
   "source": [
    "`axes.plot(x, x**2, label=\"curve1\")\n",
    "axes.plot(x, x**3, label=\"curve2\")\n",
    "axes.legend()`"
   ]
  },
  {
   "metadata": {},
   "cell_type": "markdown",
   "source": "Также можно выбрать расположение легенды на графике:"
  },
  {
   "metadata": {},
   "cell_type": "markdown",
   "source": [
    "`ax.legend(loc=0) # автовыбор\n",
    "ax.legend(loc='upper right')\n",
    "ax.legend(loc='upper left')\n",
    "ax.legend(loc='lower left')\n",
    "ax.legend(loc='lower right')`"
   ]
  },
  {
   "metadata": {},
   "cell_type": "markdown",
   "source": "Пример использования описанного выше:"
  },
  {
   "metadata": {},
   "cell_type": "code",
   "outputs": [],
   "execution_count": null,
   "source": [
    "fig, ax = plt.subplots()\n",
    "ax.plot(x, x**2, label=\"y = x**2\")\n",
    "ax.plot(x, x**3, label=\"y = x**3\")\n",
    "ax.legend(loc='upper left');\n",
    "ax.set_xlabel('x')\n",
    "ax.set_ylabel('y')\n",
    "ax.set_title('title');"
   ]
  },
  {
   "metadata": {},
   "cell_type": "markdown",
   "source": [
    "**Задание**:\n",
    "Дан временной ряд дневной цены некоторого актива:\n",
    "\n",
    "stock_prices = np.array([100, 102, 101, 105, 107, 110, 108, 109, 112, 115, 114, 116, 118, 120, 119])\n",
    "1) Постройте временной ряд недельного скользящего среднего, то есть скользящего среднего с окном, равным одной неделе. При построении скользящего среднего ряда игнорируйте ту часть исходного временного ряда, где в окно попадает меньше одной недели.\n",
    "2) Постройте линейный график исходной цены и цены, полученной с помощью скользящего среднего"
   ]
  },
  {
   "metadata": {},
   "cell_type": "code",
   "outputs": [],
   "execution_count": null,
   "source": [
    "stock_prices = np.array([100, 102, 101, 105, 107, 110, 108, 109, 112, 115, 114, 116, 118, 120, 119])\n",
    "window_size = 5  # недельное окно (5 рабочих дней)\n",
    "moving_avg = np.convolve(stock_prices, np.ones(window_size)/window_size, mode='valid')\n",
    "\n",
    "plt.plot(stock_prices, label='Original')\n",
    "plt.plot(np.arange(window_size - 1, len(stock_prices)), moving_avg, label='Moving Average')\n",
    "plt.legend()\n",
    "plt.show()"
   ]
  },
  {
   "metadata": {},
   "cell_type": "markdown",
   "source": "Интерфейс subplots позволяет создавать сетку из множественных графиков"
  },
  {
   "metadata": {},
   "cell_type": "code",
   "outputs": [],
   "execution_count": null,
   "source": [
    "fig, axes = plt.subplots(1, 2, figsize=(8, 4))\n",
    "axes[0].plot(x, y1, \"r\")  # в этот раз мы используем fmt для задания цвета\n",
    "axes[1].plot(x, y2, \"b\")\n",
    "for ax in axes:\n",
    "    ax.set_xlabel(r'$x$', fontsize=12)\n",
    "    ax.set_ylabel(r'$y(x)$', fontsize=12)\n",
    "    ax.grid()\n",
    "fig.tight_layout()\n",
    "plt.show()"
   ]
  },
  {
   "metadata": {},
   "cell_type": "markdown",
   "source": "**Задание**: создайте график 2х1, постройте графики sin(x), e**(x). Используйте в графике с e**x логарифмическую шкалу (semilogx, semilogy или loglog)."
  },
  {
   "metadata": {
    "ExecuteTime": {
     "end_time": "2025-05-29T22:16:08.490766Z",
     "start_time": "2025-05-29T22:16:08.272225Z"
    }
   },
   "cell_type": "code",
   "source": [
    "x = np.linspace(0, 2 * np.pi, 100)\n",
    "y1 = np.sin(x)\n",
    "y2 = np.exp(x)\n",
    "\n",
    "fig, axes = plt.subplots(2, 1, figsize=(8, 6))\n",
    "axes[0].plot(x, y1, 'r')\n",
    "axes[1].semilogy(x, y2, 'b')\n",
    "plt.show()"
   ],
   "outputs": [
    {
     "data": {
      "text/plain": [
       "<Figure size 800x600 with 2 Axes>"
      ],
      "image/png": "[encoded data removed]"
     },
     "metadata": {},
     "output_type": "display_data"
    }
   ],
   "execution_count": 64
  },
  {
   "metadata": {},
   "cell_type": "markdown",
   "source": [
    "# Pandas\n",
    "\n",
    "* Пакет для Python, используемый для представления, манипуляций и анализа табличных данных \n",
    "* Строится вокруг эффективно реализованных структур `pd.DataFrame` (таблица) и `pd.Series` (колонка), которые позволяют быстро манипулировать большими датасетами (если они помещаются в памяти, в противном случае необходимо использовать `dask`)\n",
    "* Поддерживает интерфейс, схожий с numpy массивами, но добавляет поддержку кастомовой табличной индексации\n",
    "* Часто используется как структура датасета для ML моделей"
   ]
  },
  {
   "metadata": {
    "ExecuteTime": {
     "end_time": "2025-05-29T23:29:19.053540Z",
     "start_time": "2025-05-29T23:29:19.034921Z"
    }
   },
   "cell_type": "code",
   "source": "import pandas as pd",
   "outputs": [
    {
     "ename": "ModuleNotFoundError",
     "evalue": "No module named 'pandas'",
     "output_type": "error",
     "traceback": [
      "\u001B[31m---------------------------------------------------------------------------\u001B[39m",
      "\u001B[31mModuleNotFoundError\u001B[39m                       Traceback (most recent call last)",
      "\u001B[36mCell\u001B[39m\u001B[36m \u001B[39m\u001B[32mIn[11]\u001B[39m\u001B[32m, line 1\u001B[39m\n\u001B[32m----> \u001B[39m\u001B[32m1\u001B[39m \u001B[38;5;28;01mimport\u001B[39;00m\u001B[38;5;250m \u001B[39m\u001B[34;01mpandas\u001B[39;00m\u001B[38;5;250m \u001B[39m\u001B[38;5;28;01mas\u001B[39;00m\u001B[38;5;250m \u001B[39m\u001B[34;01mpd\u001B[39;00m\n",
      "\u001B[31mModuleNotFoundError\u001B[39m: No module named 'pandas'"
     ]
    }
   ],
   "execution_count": 11
  },
  {
   "metadata": {},
   "cell_type": "markdown",
   "source": "## Создание рядов и датафреймов"
  },
  {
   "metadata": {},
   "cell_type": "markdown",
   "source": "Основные манипуляции данными в pandas происходят через `pd.Series` (одномерный массив с кастомной индексацией) и `pd.DataFrame` (двумерный массив с кастомной индексацией и интерпретацией строк и столбцов). В рамках одного столбца (или одного `pd.Series`) тип данных постоянен."
  },
  {
   "metadata": {},
   "cell_type": "markdown",
   "source": "### Создание `pd.Series`"
  },
  {
   "metadata": {},
   "cell_type": "markdown",
   "source": "Мы можем создать `pd.Series` напрямую из массива/списка. В этом случае будет создан автоматический индекс от 0 до N - 1, к которому мы всегда можем получить доступ через аттрибут `index`. Сам индекс является отдельным типом, который наследуется от `pd.Index` и представляет immutable последовательность, пригодную для индексации."
  },
  {
   "metadata": {
    "ExecuteTime": {
     "end_time": "2025-05-29T22:17:35.021710Z",
     "start_time": "2025-05-29T22:17:35.016145Z"
    }
   },
   "cell_type": "code",
   "source": [
    "a = [1, 3, 5]\n",
    "s = pd.Series(a)\n",
    "s"
   ],
   "outputs": [
    {
     "data": {
      "text/plain": [
       "0    1\n",
       "1    3\n",
       "2    5\n",
       "dtype: int64"
      ]
     },
     "execution_count": 67,
     "metadata": {},
     "output_type": "execute_result"
    }
   ],
   "execution_count": 67
  },
  {
   "metadata": {},
   "cell_type": "code",
   "outputs": [],
   "execution_count": null,
   "source": "s.index"
  },
  {
   "metadata": {},
   "cell_type": "markdown",
   "source": "Мы также можем задать свой собственный индекс, если он у нас имеется. Для удобства можно представлять себе индекс как первичный ключ в терминах SQL"
  },
  {
   "metadata": {
    "ExecuteTime": {
     "end_time": "2025-05-29T22:17:56.399917Z",
     "start_time": "2025-05-29T22:17:56.394137Z"
    }
   },
   "cell_type": "code",
   "source": [
    "s = pd.Series(a, index=['x', 'y', 'z'])\n",
    "s"
   ],
   "outputs": [
    {
     "data": {
      "text/plain": [
       "x    1\n",
       "y    3\n",
       "z    5\n",
       "dtype: int64"
      ]
     },
     "execution_count": 68,
     "metadata": {},
     "output_type": "execute_result"
    }
   ],
   "execution_count": 68
  },
  {
   "metadata": {},
   "cell_type": "code",
   "outputs": [],
   "execution_count": null,
   "source": "s.index"
  },
  {
   "metadata": {},
   "cell_type": "markdown",
   "source": "Создать `pd.Series` мы можем также из словаря, где ключи будут интерпретироваться как индексы."
  },
  {
   "metadata": {
    "ExecuteTime": {
     "end_time": "2025-05-29T22:18:02.666021Z",
     "start_time": "2025-05-29T22:18:02.660599Z"
    }
   },
   "cell_type": "code",
   "source": [
    "data = {\n",
    "    'x': 1,\n",
    "    'y': 3,\n",
    "    'z': 5,\n",
    "}\n",
    "s = pd.Series(data)\n",
    "s"
   ],
   "outputs": [
    {
     "data": {
      "text/plain": [
       "x    1\n",
       "y    3\n",
       "z    5\n",
       "dtype: int64"
      ]
     },
     "execution_count": 69,
     "metadata": {},
     "output_type": "execute_result"
    }
   ],
   "execution_count": 69
  },
  {
   "metadata": {},
   "cell_type": "markdown",
   "source": "### Создание `pd.DataFrame`"
  },
  {
   "metadata": {},
   "cell_type": "markdown",
   "source": "Мы можем представить `pd.DataFrame` как набор `pd.Series`, скрепленных общим индексом. Существует множество способов, как мы можем создать `pd.DataFrame`, но проще всего это сделать с помощью словаря."
  },
  {
   "metadata": {
    "ExecuteTime": {
     "end_time": "2025-05-29T22:18:20.926326Z",
     "start_time": "2025-05-29T22:18:20.917306Z"
    }
   },
   "cell_type": "code",
   "source": [
    "people = {\n",
    "    'first_name': ['Anastasiya', 'Anton', 'Boris'],\n",
    "    'second_name': ['Nikolskaya', 'Pershin', 'Yeltsin'],\n",
    "    'sex': ['f', 'm', 'm'],\n",
    "    'gpa': [4.8, 4.5, 3.5],\n",
    "}\n",
    "df = pd.DataFrame(people)\n",
    "df"
   ],
   "outputs": [
    {
     "data": {
      "text/plain": [
       "   first_name second_name sex  gpa\n",
       "0  Anastasiya  Nikolskaya   f  4.8\n",
       "1       Anton     Pershin   m  4.5\n",
       "2       Boris     Yeltsin   m  3.5"
      ],
      "text/html": [
       "<div>\n",
       "<style scoped>\n",
       "    .dataframe tbody tr th:only-of-type {\n",
       "        vertical-align: middle;\n",
       "    }\n",
       "\n",
       "    .dataframe tbody tr th {\n",
       "        vertical-align: top;\n",
       "    }\n",
       "\n",
       "    .dataframe thead th {\n",
       "        text-align: right;\n",
       "    }\n",
       "</style>\n",
       "<table border=\"1\" class=\"dataframe\">\n",
       "  <thead>\n",
       "    <tr style=\"text-align: right;\">\n",
       "      <th></th>\n",
       "      <th>first_name</th>\n",
       "      <th>second_name</th>\n",
       "      <th>sex</th>\n",
       "      <th>gpa</th>\n",
       "    </tr>\n",
       "  </thead>\n",
       "  <tbody>\n",
       "    <tr>\n",
       "      <th>0</th>\n",
       "      <td>Anastasiya</td>\n",
       "      <td>Nikolskaya</td>\n",
       "      <td>f</td>\n",
       "      <td>4.8</td>\n",
       "    </tr>\n",
       "    <tr>\n",
       "      <th>1</th>\n",
       "      <td>Anton</td>\n",
       "      <td>Pershin</td>\n",
       "      <td>m</td>\n",
       "      <td>4.5</td>\n",
       "    </tr>\n",
       "    <tr>\n",
       "      <th>2</th>\n",
       "      <td>Boris</td>\n",
       "      <td>Yeltsin</td>\n",
       "      <td>m</td>\n",
       "      <td>3.5</td>\n",
       "    </tr>\n",
       "  </tbody>\n",
       "</table>\n",
       "</div>"
      ]
     },
     "execution_count": 70,
     "metadata": {},
     "output_type": "execute_result"
    }
   ],
   "execution_count": 70
  },
  {
   "metadata": {},
   "cell_type": "markdown",
   "source": "Мы также можем загрузить данные из файла. Чаще всего для этого используют csv и соответствующую функции `pd.read_csv()`"
  },
  {
   "metadata": {
    "ExecuteTime": {
     "end_time": "2025-05-29T23:29:05.365844Z",
     "start_time": "2025-05-29T23:29:05.346888Z"
    }
   },
   "cell_type": "code",
   "source": [
    "df_csv = pd.read_csv(cfg['house_pricing']['train_dataset'])\n",
    "df_csv.head()"
   ],
   "outputs": [
    {
     "ename": "NameError",
     "evalue": "name 'pd' is not defined",
     "output_type": "error",
     "traceback": [
      "\u001B[31m---------------------------------------------------------------------------\u001B[39m",
      "\u001B[31mNameError\u001B[39m                                 Traceback (most recent call last)",
      "\u001B[36mCell\u001B[39m\u001B[36m \u001B[39m\u001B[32mIn[10]\u001B[39m\u001B[32m, line 1\u001B[39m\n\u001B[32m----> \u001B[39m\u001B[32m1\u001B[39m df_csv = \u001B[43mpd\u001B[49m.read_csv(cfg[\u001B[33m'\u001B[39m\u001B[33mhouse_pricing\u001B[39m\u001B[33m'\u001B[39m][\u001B[33m'\u001B[39m\u001B[33mtrain_dataset\u001B[39m\u001B[33m'\u001B[39m])\n\u001B[32m      2\u001B[39m df_csv.head()\n",
      "\u001B[31mNameError\u001B[39m: name 'pd' is not defined"
     ]
    }
   ],
   "execution_count": 10
  },
  {
   "metadata": {},
   "cell_type": "markdown",
   "source": "## Доступ к данным в датафрейме"
  },
  {
   "metadata": {},
   "cell_type": "markdown",
   "source": "Используя индекс и название столбца, мы всегда можем получить доступ к любому набору данных в датафрейме. Общий интерфейс нам предоставляет оператор `[ ]`, примененный к `loc`. Первым аргументом здесь будет индекс, а вторым -- столбец:"
  },
  {
   "metadata": {
    "ExecuteTime": {
     "end_time": "2025-05-29T22:19:51.474380Z",
     "start_time": "2025-05-29T22:19:51.468800Z"
    }
   },
   "cell_type": "code",
   "source": "df.loc[1, 'first_name']",
   "outputs": [
    {
     "data": {
      "text/plain": [
       "'Anton'"
      ]
     },
     "execution_count": 72,
     "metadata": {},
     "output_type": "execute_result"
    }
   ],
   "execution_count": 72
  },
  {
   "metadata": {},
   "cell_type": "markdown",
   "source": "И первый, и второй аргументы могут последовательностями, что позволяет получить доступ к любому подмножеству датафрейма, который сам является датафреймом:"
  },
  {
   "metadata": {},
   "cell_type": "code",
   "outputs": [],
   "execution_count": null,
   "source": "df.loc[[0, 1], ['first_name', 'second_name']]"
  },
  {
   "metadata": {},
   "cell_type": "markdown",
   "source": "Есть несколько упрощений для этого синтаксиса. Начнем с доступа по индексу исключительно. Допустим, мы хотим получить строку с индексом 1:"
  },
  {
   "metadata": {
    "ExecuteTime": {
     "end_time": "2025-05-29T22:20:11.397854Z",
     "start_time": "2025-05-29T22:20:11.392614Z"
    }
   },
   "cell_type": "code",
   "source": "df.loc[1]",
   "outputs": [
    {
     "data": {
      "text/plain": [
       "first_name       Anton\n",
       "second_name    Pershin\n",
       "sex                  m\n",
       "gpa                4.5\n",
       "Name: 1, dtype: object"
      ]
     },
     "execution_count": 73,
     "metadata": {},
     "output_type": "execute_result"
    }
   ],
   "execution_count": 73
  },
  {
   "metadata": {},
   "cell_type": "markdown",
   "source": "Обратите внимание, что возвращенный объект является инстансом `pd.Series` с индексом `['first_name', 'second_name', 'sex', 'gpa']`:"
  },
  {
   "metadata": {},
   "cell_type": "code",
   "outputs": [],
   "execution_count": null,
   "source": [
    "print(type(df.loc[1]))\n",
    "df.loc[1].index"
   ]
  },
  {
   "metadata": {},
   "cell_type": "markdown",
   "source": "Мы также можем получить `pd.Series` по одному из столбцов, используя оператор `[ ]` напрямую:"
  },
  {
   "metadata": {},
   "cell_type": "code",
   "outputs": [],
   "execution_count": null,
   "source": "df['first_name']"
  },
  {
   "metadata": {},
   "cell_type": "markdown",
   "source": "Снова можно передать последовательность названий столбцов в `[ ]` для получения подмножества столбцов:"
  },
  {
   "metadata": {
    "ExecuteTime": {
     "end_time": "2025-05-29T22:20:22.836137Z",
     "start_time": "2025-05-29T22:20:22.829449Z"
    }
   },
   "cell_type": "code",
   "source": "df[['first_name', 'second_name']]",
   "outputs": [
    {
     "data": {
      "text/plain": [
       "   first_name second_name\n",
       "0  Anastasiya  Nikolskaya\n",
       "1       Anton     Pershin\n",
       "2       Boris     Yeltsin"
      ],
      "text/html": [
       "<div>\n",
       "<style scoped>\n",
       "    .dataframe tbody tr th:only-of-type {\n",
       "        vertical-align: middle;\n",
       "    }\n",
       "\n",
       "    .dataframe tbody tr th {\n",
       "        vertical-align: top;\n",
       "    }\n",
       "\n",
       "    .dataframe thead th {\n",
       "        text-align: right;\n",
       "    }\n",
       "</style>\n",
       "<table border=\"1\" class=\"dataframe\">\n",
       "  <thead>\n",
       "    <tr style=\"text-align: right;\">\n",
       "      <th></th>\n",
       "      <th>first_name</th>\n",
       "      <th>second_name</th>\n",
       "    </tr>\n",
       "  </thead>\n",
       "  <tbody>\n",
       "    <tr>\n",
       "      <th>0</th>\n",
       "      <td>Anastasiya</td>\n",
       "      <td>Nikolskaya</td>\n",
       "    </tr>\n",
       "    <tr>\n",
       "      <th>1</th>\n",
       "      <td>Anton</td>\n",
       "      <td>Pershin</td>\n",
       "    </tr>\n",
       "    <tr>\n",
       "      <th>2</th>\n",
       "      <td>Boris</td>\n",
       "      <td>Yeltsin</td>\n",
       "    </tr>\n",
       "  </tbody>\n",
       "</table>\n",
       "</div>"
      ]
     },
     "execution_count": 74,
     "metadata": {},
     "output_type": "execute_result"
    }
   ],
   "execution_count": 74
  },
  {
   "metadata": {},
   "cell_type": "markdown",
   "source": "Мы также можем комбинировать `loc()` и `[ ]` для получения доступа к любому подмножеству датафрейма (chained indexing). Это легитимно до тех пор, пока нашей задачей является доступ к данным, а не их изменение"
  },
  {
   "metadata": {},
   "cell_type": "code",
   "outputs": [],
   "execution_count": null,
   "source": "df[['first_name', 'second_name']].loc[[0, 1]]"
  },
  {
   "metadata": {},
   "cell_type": "markdown",
   "source": "## Изменение данных в датафрейме"
  },
  {
   "metadata": {},
   "cell_type": "markdown",
   "source": [
    "Обратите внимание, что во всех операциях выше возвращался новый инстанс `pd.DataFrame` или `pd.Series`. Возникает естественный вопрос -- происходит в этом случае копирование данных или нет? На этот вопрос нет однозначного ответа -- в одном случае может произойти копирование данных, а в другом будет возвращено их представление. Существуют правила, которые конкретизируют эти случаи [1], но во всех операциях следует использовать наиболее консервативный подход, то есть явные копирования и изменения. Ниже мы рассмотрим частные случаи.\n",
    "\n",
    "Правило для изменения данных в исходном датафрейме очень простое -- не должно быть никакого chained indexing [2]. В противном случае мы можете получить warning `SettingWithCopy`. Причина состоит в том, что pandas не имеет механизма для отслеживания \"представлений в представлениях\". После первой индексации будет возвращен датафрейм/ряд, относительно которого нет уверенности -- является ли он копией или представлением.\n",
    "\n",
    "[1] https://stackoverflow.com/questions/23296282/what-rules-does-pandas-use-to-generate-a-view-vs-a-copy  \n",
    "[2] https://pandas.pydata.org/pandas-docs/stable/user_guide/indexing.html#returning-a-view-versus-a-copy"
   ]
  },
  {
   "metadata": {},
   "cell_type": "markdown",
   "source": "Предположим, что мы хотим изменить оценку в исходном датафрейме для индекса 1. Мы можем это сделать, избегая chained indexing, используя `loc`:"
  },
  {
   "metadata": {
    "ExecuteTime": {
     "end_time": "2025-05-29T22:20:49.451689Z",
     "start_time": "2025-05-29T22:20:49.445027Z"
    }
   },
   "cell_type": "code",
   "source": [
    "df.loc[1, 'gpa'] = 4.6\n",
    "df"
   ],
   "outputs": [
    {
     "data": {
      "text/plain": [
       "   first_name second_name sex  gpa\n",
       "0  Anastasiya  Nikolskaya   f  4.8\n",
       "1       Anton     Pershin   m  4.6\n",
       "2       Boris     Yeltsin   m  3.5"
      ],
      "text/html": [
       "<div>\n",
       "<style scoped>\n",
       "    .dataframe tbody tr th:only-of-type {\n",
       "        vertical-align: middle;\n",
       "    }\n",
       "\n",
       "    .dataframe tbody tr th {\n",
       "        vertical-align: top;\n",
       "    }\n",
       "\n",
       "    .dataframe thead th {\n",
       "        text-align: right;\n",
       "    }\n",
       "</style>\n",
       "<table border=\"1\" class=\"dataframe\">\n",
       "  <thead>\n",
       "    <tr style=\"text-align: right;\">\n",
       "      <th></th>\n",
       "      <th>first_name</th>\n",
       "      <th>second_name</th>\n",
       "      <th>sex</th>\n",
       "      <th>gpa</th>\n",
       "    </tr>\n",
       "  </thead>\n",
       "  <tbody>\n",
       "    <tr>\n",
       "      <th>0</th>\n",
       "      <td>Anastasiya</td>\n",
       "      <td>Nikolskaya</td>\n",
       "      <td>f</td>\n",
       "      <td>4.8</td>\n",
       "    </tr>\n",
       "    <tr>\n",
       "      <th>1</th>\n",
       "      <td>Anton</td>\n",
       "      <td>Pershin</td>\n",
       "      <td>m</td>\n",
       "      <td>4.6</td>\n",
       "    </tr>\n",
       "    <tr>\n",
       "      <th>2</th>\n",
       "      <td>Boris</td>\n",
       "      <td>Yeltsin</td>\n",
       "      <td>m</td>\n",
       "      <td>3.5</td>\n",
       "    </tr>\n",
       "  </tbody>\n",
       "</table>\n",
       "</div>"
      ]
     },
     "execution_count": 75,
     "metadata": {},
     "output_type": "execute_result"
    }
   ],
   "execution_count": 75
  },
  {
   "metadata": {},
   "cell_type": "markdown",
   "source": "Попытка сделать это через chained indexing может не сработать:"
  },
  {
   "metadata": {},
   "cell_type": "code",
   "outputs": [],
   "execution_count": null,
   "source": [
    "df.loc[1]['gpa'] = 4.5\n",
    "df"
   ]
  },
  {
   "metadata": {},
   "cell_type": "markdown",
   "source": "А может и сработать:"
  },
  {
   "metadata": {},
   "cell_type": "code",
   "outputs": [],
   "execution_count": null,
   "source": [
    "df['gpa'][1] = 4.5\n",
    "df"
   ]
  },
  {
   "metadata": {},
   "cell_type": "markdown",
   "source": [
    "Именно из-за такой неоднозначности и стоит использовать наиболее явные способы изменения датафреймов.\n",
    "\n",
    "Еще одним из явных способов является изменение всего столбца через `[ ]`:"
   ]
  },
  {
   "metadata": {},
   "cell_type": "code",
   "outputs": [],
   "execution_count": null,
   "source": [
    "df['gpa'] = [5.0, 4.5, 3.2]\n",
    "df"
   ]
  },
  {
   "metadata": {},
   "cell_type": "markdown",
   "source": "Если требуется создать копию датафрейма, то следует также создать копию явно: "
  },
  {
   "metadata": {},
   "cell_type": "code",
   "outputs": [],
   "execution_count": null,
   "source": [
    "df_copy = df.copy()\n",
    "df_copy.loc[0, 'gpa'] = 4.9\n",
    "df_copy"
   ]
  },
  {
   "metadata": {},
   "cell_type": "markdown",
   "source": "## Exploratory data analysis (EDA) "
  },
  {
   "metadata": {},
   "cell_type": "markdown",
   "source": "### Общая информация"
  },
  {
   "metadata": {},
   "cell_type": "markdown",
   "source": "Методы `head()` и `tail()` выводят первые (последние соотв.) n строк. Оба метода принимают кол-во выводимых строк как единственный аргумент (по умолчанию 5)."
  },
  {
   "metadata": {},
   "cell_type": "code",
   "outputs": [],
   "execution_count": null,
   "source": "df_csv.head()"
  },
  {
   "metadata": {},
   "cell_type": "code",
   "outputs": [],
   "execution_count": null,
   "source": "df_csv.tail()"
  },
  {
   "metadata": {},
   "cell_type": "markdown",
   "source": "Не все столбцы здесь выведены. Их список мы можем получить, используя аттрибут `columns`:"
  },
  {
   "metadata": {},
   "cell_type": "code",
   "outputs": [],
   "execution_count": null,
   "source": "df_csv.columns"
  },
  {
   "metadata": {},
   "cell_type": "markdown",
   "source": "Базовую информацию о датафрейме (кол-во строк, кол-во столбцов, типы столбцов, кол-во not NaN значений) мы можем получить, используя метод `info()`:"
  },
  {
   "metadata": {},
   "cell_type": "code",
   "outputs": [],
   "execution_count": null,
   "source": "df_csv.info()"
  },
  {
   "metadata": {},
   "cell_type": "markdown",
   "source": "NaN значения регулярно встречаются при работе с реальными датасетами. Как минимум, часто полезно знать их кол-во. Для этого удобно использовать метод `isna()` или `isnull()` (алиас для `isna()`):"
  },
  {
   "metadata": {
    "ExecuteTime": {
     "end_time": "2025-05-29T22:40:06.069170Z",
     "start_time": "2025-05-29T22:40:06.046600Z"
    }
   },
   "cell_type": "code",
   "source": "df_csv.isna()",
   "outputs": [
    {
     "ename": "NameError",
     "evalue": "name 'df_csv' is not defined",
     "output_type": "error",
     "traceback": [
      "\u001B[31m---------------------------------------------------------------------------\u001B[39m",
      "\u001B[31mNameError\u001B[39m                                 Traceback (most recent call last)",
      "\u001B[36mCell\u001B[39m\u001B[36m \u001B[39m\u001B[32mIn[81]\u001B[39m\u001B[32m, line 1\u001B[39m\n\u001B[32m----> \u001B[39m\u001B[32m1\u001B[39m \u001B[43mdf_csv\u001B[49m.isna()\n",
      "\u001B[31mNameError\u001B[39m: name 'df_csv' is not defined"
     ]
    }
   ],
   "execution_count": 81
  },
  {
   "metadata": {},
   "cell_type": "markdown",
   "source": "Просуммируя столбцы, мы получим кол-во NaN значений в каждом столбце:"
  },
  {
   "metadata": {},
   "cell_type": "code",
   "outputs": [],
   "execution_count": null,
   "source": "df_csv.isna().sum()"
  },
  {
   "metadata": {},
   "cell_type": "markdown",
   "source": "Интересно узнать, какие столбцы имеют больше всего NaN значений. Для этого воспользуемся сортировкой:"
  },
  {
   "metadata": {
    "ExecuteTime": {
     "end_time": "2025-05-29T22:27:33.268677Z",
     "start_time": "2025-05-29T22:27:33.246561Z"
    }
   },
   "cell_type": "code",
   "source": "df_csv.isna().sum().sort_values(ascending=False)",
   "outputs": [
    {
     "ename": "NameError",
     "evalue": "name 'df_csv' is not defined",
     "output_type": "error",
     "traceback": [
      "\u001B[31m---------------------------------------------------------------------------\u001B[39m",
      "\u001B[31mNameError\u001B[39m                                 Traceback (most recent call last)",
      "\u001B[36mCell\u001B[39m\u001B[36m \u001B[39m\u001B[32mIn[80]\u001B[39m\u001B[32m, line 1\u001B[39m\n\u001B[32m----> \u001B[39m\u001B[32m1\u001B[39m \u001B[43mdf_csv\u001B[49m.isna().sum().sort_values(ascending=\u001B[38;5;28;01mFalse\u001B[39;00m)\n",
      "\u001B[31mNameError\u001B[39m: name 'df_csv' is not defined"
     ]
    }
   ],
   "execution_count": 80
  },
  {
   "metadata": {},
   "cell_type": "markdown",
   "source": "**Задание**: найдите максимальное число пустых значений в строке."
  },
  {
   "metadata": {
    "ExecuteTime": {
     "end_time": "2025-05-29T23:28:47.691633Z",
     "start_time": "2025-05-29T23:28:47.670753Z"
    }
   },
   "cell_type": "code",
   "source": "max_nulls = df_csv.isna().sum(axis=1).max()",
   "outputs": [
    {
     "ename": "NameError",
     "evalue": "name 'df_csv' is not defined",
     "output_type": "error",
     "traceback": [
      "\u001B[31m---------------------------------------------------------------------------\u001B[39m",
      "\u001B[31mNameError\u001B[39m                                 Traceback (most recent call last)",
      "\u001B[36mCell\u001B[39m\u001B[36m \u001B[39m\u001B[32mIn[9]\u001B[39m\u001B[32m, line 1\u001B[39m\n\u001B[32m----> \u001B[39m\u001B[32m1\u001B[39m max_nulls = \u001B[43mdf_csv\u001B[49m.isna().sum(axis=\u001B[32m1\u001B[39m).max()\n",
      "\u001B[31mNameError\u001B[39m: name 'df_csv' is not defined"
     ]
    }
   ],
   "execution_count": 9
  },
  {
   "metadata": {},
   "cell_type": "markdown",
   "source": "**Задание**: сколько строк вообще не имеют пустых значений? Сколько строк имеет не больше одного?"
  },
  {
   "metadata": {},
   "cell_type": "code",
   "outputs": [],
   "execution_count": null,
   "source": [
    "no_nulls = df_csv.dropna().shape[0]\n",
    "one_or_less_nulls = (df_csv.isna().sum(axis=1) <= 1).sum()"
   ]
  },
  {
   "metadata": {},
   "cell_type": "markdown",
   "source": "### Статистическая информация"
  },
  {
   "metadata": {},
   "cell_type": "markdown",
   "source": "Основные статистики по столбцам можно получить, вызвав метод `describe()`:"
  },
  {
   "metadata": {
    "ExecuteTime": {
     "end_time": "2025-05-29T22:27:27.239434Z",
     "start_time": "2025-05-29T22:27:27.217521Z"
    }
   },
   "cell_type": "code",
   "source": "df_csv.describe()",
   "outputs": [
    {
     "ename": "NameError",
     "evalue": "name 'df_csv' is not defined",
     "output_type": "error",
     "traceback": [
      "\u001B[31m---------------------------------------------------------------------------\u001B[39m",
      "\u001B[31mNameError\u001B[39m                                 Traceback (most recent call last)",
      "\u001B[36mCell\u001B[39m\u001B[36m \u001B[39m\u001B[32mIn[79]\u001B[39m\u001B[32m, line 1\u001B[39m\n\u001B[32m----> \u001B[39m\u001B[32m1\u001B[39m \u001B[43mdf_csv\u001B[49m.describe()\n",
      "\u001B[31mNameError\u001B[39m: name 'df_csv' is not defined"
     ]
    }
   ],
   "execution_count": 79
  },
  {
   "metadata": {},
   "cell_type": "markdown",
   "source": "Допустим, что нам интересны статистики только для цены жилья и года постройки:"
  },
  {
   "metadata": {},
   "cell_type": "code",
   "outputs": [],
   "execution_count": null,
   "source": "df_csv[['SalePrice', 'YearBuilt']].describe()"
  },
  {
   "metadata": {},
   "cell_type": "markdown",
   "source": "Мы также можем настроить вывод нужных квантилей для лучшего описания распределений, используя ключевое слово `percentiles`:"
  },
  {
   "metadata": {},
   "cell_type": "code",
   "outputs": [],
   "execution_count": null,
   "source": "df_csv[['SalePrice', 'YearBuilt']].describe(percentiles=[0.1, 0.3, 0.5, 0.7, 0.9])"
  },
  {
   "metadata": {},
   "cell_type": "markdown",
   "source": "Те же статистики мы можем вычислить отдельно. Например, можно воспользоваться методами `mean()`, `median()`, `std()`"
  },
  {
   "metadata": {},
   "cell_type": "code",
   "outputs": [],
   "execution_count": null,
   "source": "df_csv.mean(numeric_only=True)"
  },
  {
   "metadata": {},
   "cell_type": "code",
   "outputs": [],
   "execution_count": null,
   "source": "df_csv.median(numeric_only=True)"
  },
  {
   "metadata": {},
   "cell_type": "code",
   "outputs": [],
   "execution_count": null,
   "source": "df_csv.std(numeric_only=True)"
  },
  {
   "metadata": {},
   "cell_type": "markdown",
   "source": "Эти статистики отлично подходят для численных столбцов, но множество столбцом в данном датасете представляют категориальные переменные. Для каждого такого столбца мы можем изучить распределение принимаемых значений, используя `value_counts()`:"
  },
  {
   "metadata": {},
   "cell_type": "code",
   "outputs": [],
   "execution_count": null,
   "source": [
    "# TA = typical average, Gd = good, Ex = excellent, Fa = fair\n",
    "df_csv['KitchenQual'].value_counts()"
   ]
  },
  {
   "metadata": {},
   "cell_type": "markdown",
   "source": "Мы можем использовать аргумент `normalize=True` для построения функции вероятностей:"
  },
  {
   "metadata": {},
   "cell_type": "code",
   "outputs": [],
   "execution_count": null,
   "source": "df_csv['KitchenQual'].value_counts(normalize=True)"
  },
  {
   "metadata": {},
   "cell_type": "markdown",
   "source": "Иногда нам необходимо провести анализ внутри подмножеств, полученных группировкой относительно некоторых столбцов. В этом случае полезным оказывается метод `groupby()`:"
  },
  {
   "metadata": {},
   "cell_type": "code",
   "outputs": [],
   "execution_count": null,
   "source": "df_csv.groupby('KitchenQual').mean()"
  },
  {
   "metadata": {},
   "cell_type": "markdown",
   "source": "Рассмотрев среднюю цену по группам, мы можем сделать очевидный вывод, что жилье с качественной кухней стоит сильно дороже:"
  },
  {
   "metadata": {},
   "cell_type": "code",
   "outputs": [],
   "execution_count": null,
   "source": "df_csv.groupby('KitchenQual')['SalePrice'].mean()"
  },
  {
   "metadata": {},
   "cell_type": "markdown",
   "source": "### Графики"
  },
  {
   "metadata": {},
   "cell_type": "markdown",
   "source": [
    "Несмотря на то, что мы уже знакомы с matplotlib и могли бы воспользоваться им для построения графиков, pandas предоставляет встроенные инструменты, которые особенно удобно использовать в jupyter notebook во время EDA.\n",
    "\n",
    "Например, построив гистрограмму, можно сразу предположить, что стоимость жилья имеет логнормальное распределение (или по крайней мере несимметричное распределение с тяжелым правым хвостом). При этом метод `plot.hist()` может использован только для числовых столбцов."
   ]
  },
  {
   "metadata": {},
   "cell_type": "code",
   "outputs": [],
   "execution_count": null,
   "source": "df_csv['SalePrice'].plot.hist()"
  },
  {
   "metadata": {},
   "cell_type": "markdown",
   "source": "Используя два столбца и `plot.scatter()`, мы можем взглянуть на зависимость между ними:"
  },
  {
   "metadata": {},
   "cell_type": "code",
   "outputs": [],
   "execution_count": null,
   "source": "df_csv.plot.scatter(x='YearBuilt', y='OverallQual')"
  },
  {
   "metadata": {},
   "cell_type": "markdown",
   "source": "Для категориальных столбцов мы можем вывести распределение значений, используя `value_counts()` и `plot.bar()`. Здесь же мы продемонстрируем, как можно передавать дополнительные аргументы для изменения визуализации"
  },
  {
   "metadata": {},
   "cell_type": "code",
   "outputs": [],
   "execution_count": null,
   "source": "df_csv['KitchenQual'].value_counts().plot.bar(figsize=(12, 6))"
  },
  {
   "metadata": {},
   "cell_type": "markdown",
   "source": [
    "**Задание**:\n",
    "Найдете вме столбцы с  NaN значениями. Отсортируйте по увеличению числа NaN и постройте barplot."
   ]
  },
  {
   "metadata": {},
   "cell_type": "code",
   "outputs": [],
   "execution_count": null,
   "source": [
    "null_counts = df_csv.isna().sum().sort_values()\n",
    "null_counts[null_counts > 0].plot.bar(figsize=(12, 6))\n",
    "plt.show()"
   ]
  },
  {
   "metadata": {},
   "cell_type": "markdown",
   "source": "Отличный инструмент для графиков  - seaborn. Это обертка над matplotlib, которая также предоставляет более широкий набор опций"
  },
  {
   "metadata": {},
   "cell_type": "code",
   "outputs": [],
   "execution_count": null,
   "source": [
    "import seaborn as sns\n",
    "from matplotlib import pyplot as plt\n",
    "sns.histplot(df_csv['SalePrice'])"
   ]
  },
  {
   "metadata": {},
   "cell_type": "markdown",
   "source": "**Задание**: Постройте гистограмму, но с 20 бинами."
  },
  {
   "metadata": {},
   "cell_type": "code",
   "outputs": [],
   "execution_count": null,
   "source": [
    "sns.histplot(df_csv['SalePrice'], bins=20)\n",
    "plt.show()"
   ]
  },
  {
   "metadata": {},
   "cell_type": "markdown",
   "source": [
    "Конечно, гистограммы можно строить сразу для нескольких категорий. Посмотрим на цены и продажи в зависимости от квартала.\n",
    "\n",
    "**Задание**: постройте гистограммы для кварталов (столбец MoSold)."
   ]
  },
  {
   "metadata": {},
   "cell_type": "code",
   "outputs": [],
   "execution_count": null,
   "source": "sns.histplot(x=df_csv['SalePrice'], #yout_code# , element=\"step\")"
  },
  {
   "metadata": {},
   "cell_type": "markdown",
   "source": "**Задание**: Постройте scatterplot через seaborn (scatter) для нескольких пар столбцов из датасета"
  },
  {
   "metadata": {},
   "cell_type": "code",
   "outputs": [],
   "execution_count": null,
   "source": "sns.scatterplot(x=df_csv[\"LotFrontage\"], y=df_csv[\"SalePrice\"])"
  },
  {
   "metadata": {},
   "cell_type": "code",
   "outputs": [],
   "execution_count": null,
   "source": "df_csv.head()"
  },
  {
   "metadata": {},
   "cell_type": "markdown",
   "source": [
    "Стиль графиков можно менять, например, поменяв палитру:\n",
    "```\n",
    "sns.set(style=\"whitegrid\")\n",
    "sns.set_palette([\"#89CFF0\", \"#FFB6C1\"])\n",
    "```"
   ]
  },
  {
   "metadata": {},
   "cell_type": "markdown",
   "source": [
    "Полезно строить графики и для категориальных данных. Например, будет полезно посмотреть на характеристики цены для разных LotShape\n",
    "\n",
    "Пример такого графика: catplot. В зависимости от значения kind то, как точки будут располагаться на осях. Попробуйте не задавать его и задать \"kind\"\n",
    "    "
   ]
  },
  {
   "metadata": {},
   "cell_type": "code",
   "outputs": [],
   "execution_count": null,
   "source": "sns.catplot(data=df_csv, x=\"LotShape\", y=\"SalePrice\", kind=\"swarm\")"
  },
  {
   "metadata": {},
   "cell_type": "markdown",
   "source": "**Задание**: Постройте этот график, но добавив еще одно измерение с двумя категорими. Как это сделать? Тоже через hue."
  },
  {
   "metadata": {},
   "cell_type": "markdown",
   "source": "Есть также и более продвинутые методы. Например, можно построить графики зависимости целевой переменной от других столбцов."
  },
  {
   "metadata": {},
   "cell_type": "code",
   "outputs": [],
   "execution_count": null,
   "source": [
    "# Выберем все числовые столбцы из датасета, кроме индекса и цены \n",
    "numeric_col = list(df_csv.select_dtypes(include=['number']).columns)\n",
    "numeric_col.remove(\"Id\")\n",
    "numeric_col.remove(\"SalePrice\")\n",
    "\n",
    "num_plots = len(numeric_col)\n",
    "num_columns = 3\n",
    "num_rows = num_plots // num_columns + (1 if num_plots % num_columns > 0 else 0)\n",
    "\n",
    "plt.figure(figsize=(16, 4 * num_rows))\n",
    "\n",
    "for i, col in enumerate(numeric_col):\n",
    "    plt.subplot(num_rows, num_columns, i + 1)\n",
    "    sns.regplot(x=df_csv[col], y=df_csv[\"SalePrice\"], scatter_kws={'color': '#89CFF0'}, line_kws={'color': '#FFB6C1'})\n",
    "    plt.title(f\"{col} vs SalePrice\")\n",
    "    plt.xlabel(col)\n",
    "    plt.ylabel(\"SalePrice\")\n",
    "    \n",
    "plt.tight_layout()\n",
    "plt.show()"
   ]
  },
  {
   "metadata": {},
   "cell_type": "markdown",
   "source": "Также иногда полезный, а иногда перегруженный график - pairplot. Его можно сделать даже для всего датасета."
  },
  {
   "metadata": {},
   "cell_type": "markdown",
   "source": "**Задание**: сделайте pairplot для нескольких столбцов датасета. Лучше не выбирать больше 5 за раз!"
  },
  {
   "metadata": {},
   "cell_type": "code",
   "outputs": [],
   "execution_count": null,
   "source": ""
  },
  {
   "metadata": {},
   "cell_type": "code",
   "outputs": [],
   "execution_count": null,
   "source": [
    "import yaml\n",
    "with open('../config.yaml', 'r') as f:\n",
    "    cfg = yaml.safe_load(f)"
   ]
  },
  {
   "metadata": {},
   "cell_type": "code",
   "outputs": [],
   "execution_count": null,
   "source": "import numpy as np"
  },
  {
   "metadata": {},
   "cell_type": "markdown",
   "source": "Задание 1. Создайте вектор со значениями от 0 до 65"
  },
  {
   "metadata": {},
   "cell_type": "code",
   "outputs": [],
   "execution_count": null,
   "source": [
    "import numpy as np\n",
    "vector = np.arange(66)\n",
    "print(vector)"
   ]
  },
  {
   "metadata": {},
   "cell_type": "markdown",
   "source": "**Задание**: Создайте матрицу 3х3 со значениями от 0 до 9"
  },
  {
   "metadata": {},
   "cell_type": "code",
   "outputs": [],
   "execution_count": null,
   "source": [
    "matrix = np.arange(9).reshape(3, 3)\n",
    "matrix"
   ]
  },
  {
   "metadata": {},
   "cell_type": "code",
   "outputs": [],
   "execution_count": null,
   "source": "np.arange(9).reshape((3,3))"
  },
  {
   "metadata": {},
   "cell_type": "markdown",
   "source": "**Задание**: создайте матрицу 9 на 9, заполните случайными значениями и найдите максимальный, минимальный элемент и среднее значение."
  },
  {
   "metadata": {},
   "cell_type": "code",
   "outputs": [],
   "execution_count": null,
   "source": [
    "matrix = np.random.rand(9, 9)\n",
    "max_val = np.max(matrix)\n",
    "min_val = np.min(matrix)\n",
    "mean_val = np.mean(matrix)\n",
    "print(f\"Max: {max_val}, Min: {min_val}, Mean: {mean_val}\")\n",
    "matrix"
   ]
  }
 ],
 "metadata": {
  "interpreter": {
   "hash": "2b3714695f2307aafe7da52bf6e53e38bc5469a267534973be7d21c816457eaf"
  },
  "kernelspec": {
   "display_name": "Python 3 (ipykernel)",
   "language": "python",
   "name": "python3"
  },
  "language_info": {
   "codemirror_mode": {
    "name": "ipython",
    "version": 3
   },
   "file_extension": ".py",
   "mimetype": "text/x-python",
   "name": "python",
   "nbconvert_exporter": "python",
   "pygments_lexer": "ipython3",
   "version": "3.10.9"
  }
 },
 "nbformat": 4,
 "nbformat_minor": 2
}
